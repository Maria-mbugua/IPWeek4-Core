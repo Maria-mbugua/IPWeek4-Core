{
  "nbformat": 4,
  "nbformat_minor": 0,
  "metadata": {
    "colab": {
      "name": "Autolib electric car-sharing service company.ipynb",
      "provenance": [],
      "authorship_tag": "ABX9TyM06penZpi4mFXUo6hv0Htm",
      "include_colab_link": true
    },
    "kernelspec": {
      "name": "python3",
      "display_name": "Python 3"
    },
    "language_info": {
      "name": "python"
    }
  },
  "cells": [
    {
      "cell_type": "markdown",
      "metadata": {
        "id": "view-in-github",
        "colab_type": "text"
      },
      "source": [
        "<a href=\"https://colab.research.google.com/github/Maria-mbugua/IPWeek4-Core/blob/main/Autolib_electric_car_sharing_service_company.ipynb\" target=\"_parent\"><img src=\"https://colab.research.google.com/assets/colab-badge.svg\" alt=\"Open In Colab\"/></a>"
      ]
    },
    {
      "cell_type": "markdown",
      "source": [
        "# **DEFINING THE QUESTION**"
      ],
      "metadata": {
        "id": "V65W6vT8jqGS"
      }
    },
    {
      "cell_type": "markdown",
      "source": [
        "# a) Specifying the Data Analytic Question"
      ],
      "metadata": {
        "id": "kZHUl7GnkbK9"
      }
    },
    {
      "cell_type": "markdown",
      "source": [
        "Investigate a claim about the blue cars from the autilob dataset.\n",
        "\n",
        "Null hypothesis: the average number of blue cars taken is not different from that of the blue cars returned\n",
        "\n",
        "Alternative hypothesis: the average number of blue cars taken is different from that of the blue cars returned"
      ],
      "metadata": {
        "id": "HhjlIINvmFFS"
      }
    },
    {
      "cell_type": "markdown",
      "source": [
        "# b) Defining the Metric for Question"
      ],
      "metadata": {
        "id": "tRIU1gXqm8ye"
      }
    },
    {
      "cell_type": "markdown",
      "source": [
        "The objective for this data includes investigating the claim listed above and knowing whether or not the the average number of blue cars taken is different than that of the blue cars returned"
      ],
      "metadata": {
        "id": "nX2dSNIQnqoN"
      }
    },
    {
      "cell_type": "markdown",
      "source": [
        "# c) Understanding the Context"
      ],
      "metadata": {
        "id": "Nm60Wx51oBsg"
      }
    },
    {
      "cell_type": "markdown",
      "source": [
        "We have been tasked to understand electric car usage by solving for another research question. We will work as a Data Scientist for the Autolib electric car-sharing service company to investigate a claim about the blue cars from the provided Autolib dataset.So as to achieve this we need to identify some areas and periods of interest via sampling stating the reason to the choice of this method, then perform hypothesis testing with regards to the claim that we will have made."
      ],
      "metadata": {
        "id": "jgbo18r9oHDx"
      }
    },
    {
      "cell_type": "markdown",
      "source": [
        "# d) Recording the Experimental Design"
      ],
      "metadata": {
        "id": "_sM-u4x5oxz1"
      }
    },
    {
      "cell_type": "markdown",
      "source": [
        "1. Defining the research question\n",
        "\n",
        "2. Finding and dealing with outliers, anomalies, and missing data within the dataset.\n",
        "\n",
        "3. Plot appropriate univariate and bivariate summaries recording our observations.\n",
        "\n",
        "4. Implement the solution by performing hypothesis testing.\n",
        "\n",
        "5. Challenge your solution by providing insights on how you can make improvements. "
      ],
      "metadata": {
        "id": "2dMOu-Pwo3Qk"
      }
    },
    {
      "cell_type": "markdown",
      "source": [
        "# e) Relevance of the Data"
      ],
      "metadata": {
        "id": "UpO0tmV5pKzf"
      }
    },
    {
      "cell_type": "markdown",
      "source": [
        "The data that was used for this survey was obtained from an open datasource. The provided dataset is a daily aggregation, by date and postal code, of the number of events on the Autolib network (car-sharing and recharging). the dataset used was ranging from january to july of 2018 and is relevant for this analysis"
      ],
      "metadata": {
        "id": "TnXLffpnpcx_"
      }
    },
    {
      "cell_type": "markdown",
      "source": [
        "# **DATA EXPLORATION**"
      ],
      "metadata": {
        "id": "3Hu9J9yEptY9"
      }
    },
    {
      "cell_type": "code",
      "source": [
        "# Importing our libraries\n",
        "import pandas as pd\n",
        "import numpy as np\n",
        "import seaborn as sns\n",
        "import matplotlib\n",
        "from matplotlib import pyplot as plt\n",
        "%matplotlib inline"
      ],
      "metadata": {
        "id": "mGNiEbYGp2SC"
      },
      "execution_count": null,
      "outputs": []
    },
    {
      "cell_type": "code",
      "source": [
        "# Loading the data\n",
        "\n",
        "url = 'http://bit.ly/DSCoreAutolibDataset'\n",
        "df = pd.read_csv(url)\n",
        "df.head()"
      ],
      "metadata": {
        "colab": {
          "base_uri": "https://localhost:8080/",
          "height": 288
        },
        "id": "OaSYTu_cqLPr",
        "outputId": "18830c65-ff4c-4709-d954-228b13ea5ab8"
      },
      "execution_count": null,
      "outputs": [
        {
          "output_type": "execute_result",
          "data": {
            "text/plain": [
              "   Postal code      date  n_daily_data_points  dayOfWeek day_type  \\\n",
              "0        75001  1/1/2018                 1440          0  weekday   \n",
              "1        75001  1/2/2018                 1438          1  weekday   \n",
              "2        75001  1/3/2018                 1439          2  weekday   \n",
              "3        75001  1/4/2018                 1320          3  weekday   \n",
              "4        75001  1/5/2018                 1440          4  weekday   \n",
              "\n",
              "   BlueCars_taken_sum  BlueCars_returned_sum  Utilib_taken_sum  \\\n",
              "0                 110                    103                 3   \n",
              "1                  98                     94                 1   \n",
              "2                 138                    139                 0   \n",
              "3                 104                    104                 2   \n",
              "4                 114                    117                 3   \n",
              "\n",
              "   Utilib_returned_sum  Utilib_14_taken_sum  Utilib_14_returned_sum  \\\n",
              "0                    2                   10                       9   \n",
              "1                    1                    8                       8   \n",
              "2                    0                    2                       2   \n",
              "3                    2                    9                       8   \n",
              "4                    3                    6                       6   \n",
              "\n",
              "   Slots_freed_sum  Slots_taken_sum  \n",
              "0               22               20  \n",
              "1               23               22  \n",
              "2               27               27  \n",
              "3               25               21  \n",
              "4               18               20  "
            ],
            "text/html": [
              "\n",
              "  <div id=\"df-833d910c-a1cb-4e41-8d4d-7a5461627f84\">\n",
              "    <div class=\"colab-df-container\">\n",
              "      <div>\n",
              "<style scoped>\n",
              "    .dataframe tbody tr th:only-of-type {\n",
              "        vertical-align: middle;\n",
              "    }\n",
              "\n",
              "    .dataframe tbody tr th {\n",
              "        vertical-align: top;\n",
              "    }\n",
              "\n",
              "    .dataframe thead th {\n",
              "        text-align: right;\n",
              "    }\n",
              "</style>\n",
              "<table border=\"1\" class=\"dataframe\">\n",
              "  <thead>\n",
              "    <tr style=\"text-align: right;\">\n",
              "      <th></th>\n",
              "      <th>Postal code</th>\n",
              "      <th>date</th>\n",
              "      <th>n_daily_data_points</th>\n",
              "      <th>dayOfWeek</th>\n",
              "      <th>day_type</th>\n",
              "      <th>BlueCars_taken_sum</th>\n",
              "      <th>BlueCars_returned_sum</th>\n",
              "      <th>Utilib_taken_sum</th>\n",
              "      <th>Utilib_returned_sum</th>\n",
              "      <th>Utilib_14_taken_sum</th>\n",
              "      <th>Utilib_14_returned_sum</th>\n",
              "      <th>Slots_freed_sum</th>\n",
              "      <th>Slots_taken_sum</th>\n",
              "    </tr>\n",
              "  </thead>\n",
              "  <tbody>\n",
              "    <tr>\n",
              "      <th>0</th>\n",
              "      <td>75001</td>\n",
              "      <td>1/1/2018</td>\n",
              "      <td>1440</td>\n",
              "      <td>0</td>\n",
              "      <td>weekday</td>\n",
              "      <td>110</td>\n",
              "      <td>103</td>\n",
              "      <td>3</td>\n",
              "      <td>2</td>\n",
              "      <td>10</td>\n",
              "      <td>9</td>\n",
              "      <td>22</td>\n",
              "      <td>20</td>\n",
              "    </tr>\n",
              "    <tr>\n",
              "      <th>1</th>\n",
              "      <td>75001</td>\n",
              "      <td>1/2/2018</td>\n",
              "      <td>1438</td>\n",
              "      <td>1</td>\n",
              "      <td>weekday</td>\n",
              "      <td>98</td>\n",
              "      <td>94</td>\n",
              "      <td>1</td>\n",
              "      <td>1</td>\n",
              "      <td>8</td>\n",
              "      <td>8</td>\n",
              "      <td>23</td>\n",
              "      <td>22</td>\n",
              "    </tr>\n",
              "    <tr>\n",
              "      <th>2</th>\n",
              "      <td>75001</td>\n",
              "      <td>1/3/2018</td>\n",
              "      <td>1439</td>\n",
              "      <td>2</td>\n",
              "      <td>weekday</td>\n",
              "      <td>138</td>\n",
              "      <td>139</td>\n",
              "      <td>0</td>\n",
              "      <td>0</td>\n",
              "      <td>2</td>\n",
              "      <td>2</td>\n",
              "      <td>27</td>\n",
              "      <td>27</td>\n",
              "    </tr>\n",
              "    <tr>\n",
              "      <th>3</th>\n",
              "      <td>75001</td>\n",
              "      <td>1/4/2018</td>\n",
              "      <td>1320</td>\n",
              "      <td>3</td>\n",
              "      <td>weekday</td>\n",
              "      <td>104</td>\n",
              "      <td>104</td>\n",
              "      <td>2</td>\n",
              "      <td>2</td>\n",
              "      <td>9</td>\n",
              "      <td>8</td>\n",
              "      <td>25</td>\n",
              "      <td>21</td>\n",
              "    </tr>\n",
              "    <tr>\n",
              "      <th>4</th>\n",
              "      <td>75001</td>\n",
              "      <td>1/5/2018</td>\n",
              "      <td>1440</td>\n",
              "      <td>4</td>\n",
              "      <td>weekday</td>\n",
              "      <td>114</td>\n",
              "      <td>117</td>\n",
              "      <td>3</td>\n",
              "      <td>3</td>\n",
              "      <td>6</td>\n",
              "      <td>6</td>\n",
              "      <td>18</td>\n",
              "      <td>20</td>\n",
              "    </tr>\n",
              "  </tbody>\n",
              "</table>\n",
              "</div>\n",
              "      <button class=\"colab-df-convert\" onclick=\"convertToInteractive('df-833d910c-a1cb-4e41-8d4d-7a5461627f84')\"\n",
              "              title=\"Convert this dataframe to an interactive table.\"\n",
              "              style=\"display:none;\">\n",
              "        \n",
              "  <svg xmlns=\"http://www.w3.org/2000/svg\" height=\"24px\"viewBox=\"0 0 24 24\"\n",
              "       width=\"24px\">\n",
              "    <path d=\"M0 0h24v24H0V0z\" fill=\"none\"/>\n",
              "    <path d=\"M18.56 5.44l.94 2.06.94-2.06 2.06-.94-2.06-.94-.94-2.06-.94 2.06-2.06.94zm-11 1L8.5 8.5l.94-2.06 2.06-.94-2.06-.94L8.5 2.5l-.94 2.06-2.06.94zm10 10l.94 2.06.94-2.06 2.06-.94-2.06-.94-.94-2.06-.94 2.06-2.06.94z\"/><path d=\"M17.41 7.96l-1.37-1.37c-.4-.4-.92-.59-1.43-.59-.52 0-1.04.2-1.43.59L10.3 9.45l-7.72 7.72c-.78.78-.78 2.05 0 2.83L4 21.41c.39.39.9.59 1.41.59.51 0 1.02-.2 1.41-.59l7.78-7.78 2.81-2.81c.8-.78.8-2.07 0-2.86zM5.41 20L4 18.59l7.72-7.72 1.47 1.35L5.41 20z\"/>\n",
              "  </svg>\n",
              "      </button>\n",
              "      \n",
              "  <style>\n",
              "    .colab-df-container {\n",
              "      display:flex;\n",
              "      flex-wrap:wrap;\n",
              "      gap: 12px;\n",
              "    }\n",
              "\n",
              "    .colab-df-convert {\n",
              "      background-color: #E8F0FE;\n",
              "      border: none;\n",
              "      border-radius: 50%;\n",
              "      cursor: pointer;\n",
              "      display: none;\n",
              "      fill: #1967D2;\n",
              "      height: 32px;\n",
              "      padding: 0 0 0 0;\n",
              "      width: 32px;\n",
              "    }\n",
              "\n",
              "    .colab-df-convert:hover {\n",
              "      background-color: #E2EBFA;\n",
              "      box-shadow: 0px 1px 2px rgba(60, 64, 67, 0.3), 0px 1px 3px 1px rgba(60, 64, 67, 0.15);\n",
              "      fill: #174EA6;\n",
              "    }\n",
              "\n",
              "    [theme=dark] .colab-df-convert {\n",
              "      background-color: #3B4455;\n",
              "      fill: #D2E3FC;\n",
              "    }\n",
              "\n",
              "    [theme=dark] .colab-df-convert:hover {\n",
              "      background-color: #434B5C;\n",
              "      box-shadow: 0px 1px 3px 1px rgba(0, 0, 0, 0.15);\n",
              "      filter: drop-shadow(0px 1px 2px rgba(0, 0, 0, 0.3));\n",
              "      fill: #FFFFFF;\n",
              "    }\n",
              "  </style>\n",
              "\n",
              "      <script>\n",
              "        const buttonEl =\n",
              "          document.querySelector('#df-833d910c-a1cb-4e41-8d4d-7a5461627f84 button.colab-df-convert');\n",
              "        buttonEl.style.display =\n",
              "          google.colab.kernel.accessAllowed ? 'block' : 'none';\n",
              "\n",
              "        async function convertToInteractive(key) {\n",
              "          const element = document.querySelector('#df-833d910c-a1cb-4e41-8d4d-7a5461627f84');\n",
              "          const dataTable =\n",
              "            await google.colab.kernel.invokeFunction('convertToInteractive',\n",
              "                                                     [key], {});\n",
              "          if (!dataTable) return;\n",
              "\n",
              "          const docLinkHtml = 'Like what you see? Visit the ' +\n",
              "            '<a target=\"_blank\" href=https://colab.research.google.com/notebooks/data_table.ipynb>data table notebook</a>'\n",
              "            + ' to learn more about interactive tables.';\n",
              "          element.innerHTML = '';\n",
              "          dataTable['output_type'] = 'display_data';\n",
              "          await google.colab.output.renderOutput(dataTable, element);\n",
              "          const docLink = document.createElement('div');\n",
              "          docLink.innerHTML = docLinkHtml;\n",
              "          element.appendChild(docLink);\n",
              "        }\n",
              "      </script>\n",
              "    </div>\n",
              "  </div>\n",
              "  "
            ]
          },
          "metadata": {},
          "execution_count": 2
        }
      ]
    },
    {
      "cell_type": "code",
      "source": [
        "# Displaying the last 5 columns\n",
        "df.tail()"
      ],
      "metadata": {
        "colab": {
          "base_uri": "https://localhost:8080/",
          "height": 288
        },
        "id": "UN6QGJhSraLe",
        "outputId": "d3887150-765e-46ea-bbd6-a0fcf7c47ce7"
      },
      "execution_count": null,
      "outputs": [
        {
          "output_type": "execute_result",
          "data": {
            "text/plain": [
              "       Postal code       date  n_daily_data_points  dayOfWeek day_type  \\\n",
              "16080        95880  6/15/2018                 1440          4  weekday   \n",
              "16081        95880  6/16/2018                 1440          5  weekend   \n",
              "16082        95880  6/17/2018                 1440          6  weekend   \n",
              "16083        95880  6/18/2018                 1440          0  weekday   \n",
              "16084        95880  6/19/2018                 1370          1  weekday   \n",
              "\n",
              "       BlueCars_taken_sum  BlueCars_returned_sum  Utilib_taken_sum  \\\n",
              "16080                  15                     10                 0   \n",
              "16081                  19                     19                 0   \n",
              "16082                  33                     35                 1   \n",
              "16083                  11                     14                 3   \n",
              "16084                   2                      2                 2   \n",
              "\n",
              "       Utilib_returned_sum  Utilib_14_taken_sum  Utilib_14_returned_sum  \\\n",
              "16080                    0                    2                       3   \n",
              "16081                    0                    2                       1   \n",
              "16082                    1                    0                       0   \n",
              "16083                    5                    2                       2   \n",
              "16084                    1                    0                       0   \n",
              "\n",
              "       Slots_freed_sum  Slots_taken_sum  \n",
              "16080                0                0  \n",
              "16081                0                0  \n",
              "16082                0                0  \n",
              "16083                0                0  \n",
              "16084                0                0  "
            ],
            "text/html": [
              "\n",
              "  <div id=\"df-a3129cc1-3917-4321-bd2f-b89ccfbb45bb\">\n",
              "    <div class=\"colab-df-container\">\n",
              "      <div>\n",
              "<style scoped>\n",
              "    .dataframe tbody tr th:only-of-type {\n",
              "        vertical-align: middle;\n",
              "    }\n",
              "\n",
              "    .dataframe tbody tr th {\n",
              "        vertical-align: top;\n",
              "    }\n",
              "\n",
              "    .dataframe thead th {\n",
              "        text-align: right;\n",
              "    }\n",
              "</style>\n",
              "<table border=\"1\" class=\"dataframe\">\n",
              "  <thead>\n",
              "    <tr style=\"text-align: right;\">\n",
              "      <th></th>\n",
              "      <th>Postal code</th>\n",
              "      <th>date</th>\n",
              "      <th>n_daily_data_points</th>\n",
              "      <th>dayOfWeek</th>\n",
              "      <th>day_type</th>\n",
              "      <th>BlueCars_taken_sum</th>\n",
              "      <th>BlueCars_returned_sum</th>\n",
              "      <th>Utilib_taken_sum</th>\n",
              "      <th>Utilib_returned_sum</th>\n",
              "      <th>Utilib_14_taken_sum</th>\n",
              "      <th>Utilib_14_returned_sum</th>\n",
              "      <th>Slots_freed_sum</th>\n",
              "      <th>Slots_taken_sum</th>\n",
              "    </tr>\n",
              "  </thead>\n",
              "  <tbody>\n",
              "    <tr>\n",
              "      <th>16080</th>\n",
              "      <td>95880</td>\n",
              "      <td>6/15/2018</td>\n",
              "      <td>1440</td>\n",
              "      <td>4</td>\n",
              "      <td>weekday</td>\n",
              "      <td>15</td>\n",
              "      <td>10</td>\n",
              "      <td>0</td>\n",
              "      <td>0</td>\n",
              "      <td>2</td>\n",
              "      <td>3</td>\n",
              "      <td>0</td>\n",
              "      <td>0</td>\n",
              "    </tr>\n",
              "    <tr>\n",
              "      <th>16081</th>\n",
              "      <td>95880</td>\n",
              "      <td>6/16/2018</td>\n",
              "      <td>1440</td>\n",
              "      <td>5</td>\n",
              "      <td>weekend</td>\n",
              "      <td>19</td>\n",
              "      <td>19</td>\n",
              "      <td>0</td>\n",
              "      <td>0</td>\n",
              "      <td>2</td>\n",
              "      <td>1</td>\n",
              "      <td>0</td>\n",
              "      <td>0</td>\n",
              "    </tr>\n",
              "    <tr>\n",
              "      <th>16082</th>\n",
              "      <td>95880</td>\n",
              "      <td>6/17/2018</td>\n",
              "      <td>1440</td>\n",
              "      <td>6</td>\n",
              "      <td>weekend</td>\n",
              "      <td>33</td>\n",
              "      <td>35</td>\n",
              "      <td>1</td>\n",
              "      <td>1</td>\n",
              "      <td>0</td>\n",
              "      <td>0</td>\n",
              "      <td>0</td>\n",
              "      <td>0</td>\n",
              "    </tr>\n",
              "    <tr>\n",
              "      <th>16083</th>\n",
              "      <td>95880</td>\n",
              "      <td>6/18/2018</td>\n",
              "      <td>1440</td>\n",
              "      <td>0</td>\n",
              "      <td>weekday</td>\n",
              "      <td>11</td>\n",
              "      <td>14</td>\n",
              "      <td>3</td>\n",
              "      <td>5</td>\n",
              "      <td>2</td>\n",
              "      <td>2</td>\n",
              "      <td>0</td>\n",
              "      <td>0</td>\n",
              "    </tr>\n",
              "    <tr>\n",
              "      <th>16084</th>\n",
              "      <td>95880</td>\n",
              "      <td>6/19/2018</td>\n",
              "      <td>1370</td>\n",
              "      <td>1</td>\n",
              "      <td>weekday</td>\n",
              "      <td>2</td>\n",
              "      <td>2</td>\n",
              "      <td>2</td>\n",
              "      <td>1</td>\n",
              "      <td>0</td>\n",
              "      <td>0</td>\n",
              "      <td>0</td>\n",
              "      <td>0</td>\n",
              "    </tr>\n",
              "  </tbody>\n",
              "</table>\n",
              "</div>\n",
              "      <button class=\"colab-df-convert\" onclick=\"convertToInteractive('df-a3129cc1-3917-4321-bd2f-b89ccfbb45bb')\"\n",
              "              title=\"Convert this dataframe to an interactive table.\"\n",
              "              style=\"display:none;\">\n",
              "        \n",
              "  <svg xmlns=\"http://www.w3.org/2000/svg\" height=\"24px\"viewBox=\"0 0 24 24\"\n",
              "       width=\"24px\">\n",
              "    <path d=\"M0 0h24v24H0V0z\" fill=\"none\"/>\n",
              "    <path d=\"M18.56 5.44l.94 2.06.94-2.06 2.06-.94-2.06-.94-.94-2.06-.94 2.06-2.06.94zm-11 1L8.5 8.5l.94-2.06 2.06-.94-2.06-.94L8.5 2.5l-.94 2.06-2.06.94zm10 10l.94 2.06.94-2.06 2.06-.94-2.06-.94-.94-2.06-.94 2.06-2.06.94z\"/><path d=\"M17.41 7.96l-1.37-1.37c-.4-.4-.92-.59-1.43-.59-.52 0-1.04.2-1.43.59L10.3 9.45l-7.72 7.72c-.78.78-.78 2.05 0 2.83L4 21.41c.39.39.9.59 1.41.59.51 0 1.02-.2 1.41-.59l7.78-7.78 2.81-2.81c.8-.78.8-2.07 0-2.86zM5.41 20L4 18.59l7.72-7.72 1.47 1.35L5.41 20z\"/>\n",
              "  </svg>\n",
              "      </button>\n",
              "      \n",
              "  <style>\n",
              "    .colab-df-container {\n",
              "      display:flex;\n",
              "      flex-wrap:wrap;\n",
              "      gap: 12px;\n",
              "    }\n",
              "\n",
              "    .colab-df-convert {\n",
              "      background-color: #E8F0FE;\n",
              "      border: none;\n",
              "      border-radius: 50%;\n",
              "      cursor: pointer;\n",
              "      display: none;\n",
              "      fill: #1967D2;\n",
              "      height: 32px;\n",
              "      padding: 0 0 0 0;\n",
              "      width: 32px;\n",
              "    }\n",
              "\n",
              "    .colab-df-convert:hover {\n",
              "      background-color: #E2EBFA;\n",
              "      box-shadow: 0px 1px 2px rgba(60, 64, 67, 0.3), 0px 1px 3px 1px rgba(60, 64, 67, 0.15);\n",
              "      fill: #174EA6;\n",
              "    }\n",
              "\n",
              "    [theme=dark] .colab-df-convert {\n",
              "      background-color: #3B4455;\n",
              "      fill: #D2E3FC;\n",
              "    }\n",
              "\n",
              "    [theme=dark] .colab-df-convert:hover {\n",
              "      background-color: #434B5C;\n",
              "      box-shadow: 0px 1px 3px 1px rgba(0, 0, 0, 0.15);\n",
              "      filter: drop-shadow(0px 1px 2px rgba(0, 0, 0, 0.3));\n",
              "      fill: #FFFFFF;\n",
              "    }\n",
              "  </style>\n",
              "\n",
              "      <script>\n",
              "        const buttonEl =\n",
              "          document.querySelector('#df-a3129cc1-3917-4321-bd2f-b89ccfbb45bb button.colab-df-convert');\n",
              "        buttonEl.style.display =\n",
              "          google.colab.kernel.accessAllowed ? 'block' : 'none';\n",
              "\n",
              "        async function convertToInteractive(key) {\n",
              "          const element = document.querySelector('#df-a3129cc1-3917-4321-bd2f-b89ccfbb45bb');\n",
              "          const dataTable =\n",
              "            await google.colab.kernel.invokeFunction('convertToInteractive',\n",
              "                                                     [key], {});\n",
              "          if (!dataTable) return;\n",
              "\n",
              "          const docLinkHtml = 'Like what you see? Visit the ' +\n",
              "            '<a target=\"_blank\" href=https://colab.research.google.com/notebooks/data_table.ipynb>data table notebook</a>'\n",
              "            + ' to learn more about interactive tables.';\n",
              "          element.innerHTML = '';\n",
              "          dataTable['output_type'] = 'display_data';\n",
              "          await google.colab.output.renderOutput(dataTable, element);\n",
              "          const docLink = document.createElement('div');\n",
              "          docLink.innerHTML = docLinkHtml;\n",
              "          element.appendChild(docLink);\n",
              "        }\n",
              "      </script>\n",
              "    </div>\n",
              "  </div>\n",
              "  "
            ]
          },
          "metadata": {},
          "execution_count": 3
        }
      ]
    },
    {
      "cell_type": "markdown",
      "source": [
        "# Checking the Data"
      ],
      "metadata": {
        "id": "Sq9mJRM7tA9d"
      }
    },
    {
      "cell_type": "code",
      "source": [
        "# Checking the datatypes\n",
        "df.info()"
      ],
      "metadata": {
        "colab": {
          "base_uri": "https://localhost:8080/"
        },
        "id": "wz8244xhtG9Q",
        "outputId": "5975aadd-c8de-4c92-e9bf-428c80eb48a6"
      },
      "execution_count": null,
      "outputs": [
        {
          "output_type": "stream",
          "name": "stdout",
          "text": [
            "<class 'pandas.core.frame.DataFrame'>\n",
            "RangeIndex: 16085 entries, 0 to 16084\n",
            "Data columns (total 13 columns):\n",
            " #   Column                  Non-Null Count  Dtype \n",
            "---  ------                  --------------  ----- \n",
            " 0   Postal code             16085 non-null  int64 \n",
            " 1   date                    16085 non-null  object\n",
            " 2   n_daily_data_points     16085 non-null  int64 \n",
            " 3   dayOfWeek               16085 non-null  int64 \n",
            " 4   day_type                16085 non-null  object\n",
            " 5   BlueCars_taken_sum      16085 non-null  int64 \n",
            " 6   BlueCars_returned_sum   16085 non-null  int64 \n",
            " 7   Utilib_taken_sum        16085 non-null  int64 \n",
            " 8   Utilib_returned_sum     16085 non-null  int64 \n",
            " 9   Utilib_14_taken_sum     16085 non-null  int64 \n",
            " 10  Utilib_14_returned_sum  16085 non-null  int64 \n",
            " 11  Slots_freed_sum         16085 non-null  int64 \n",
            " 12  Slots_taken_sum         16085 non-null  int64 \n",
            "dtypes: int64(11), object(2)\n",
            "memory usage: 1.6+ MB\n"
          ]
        }
      ]
    },
    {
      "cell_type": "code",
      "source": [
        "# Displaying the columns\n",
        "df.columns"
      ],
      "metadata": {
        "colab": {
          "base_uri": "https://localhost:8080/"
        },
        "id": "b9YmAle6tPfs",
        "outputId": "58b3a40e-527f-47cb-b3c1-2808761cfd4e"
      },
      "execution_count": null,
      "outputs": [
        {
          "output_type": "execute_result",
          "data": {
            "text/plain": [
              "Index(['Postal code', 'date', 'n_daily_data_points', 'dayOfWeek', 'day_type',\n",
              "       'BlueCars_taken_sum', 'BlueCars_returned_sum', 'Utilib_taken_sum',\n",
              "       'Utilib_returned_sum', 'Utilib_14_taken_sum', 'Utilib_14_returned_sum',\n",
              "       'Slots_freed_sum', 'Slots_taken_sum'],\n",
              "      dtype='object')"
            ]
          },
          "metadata": {},
          "execution_count": 5
        }
      ]
    },
    {
      "cell_type": "code",
      "source": [
        "#  Checking for Quantiles\n",
        "Q1 = df.quantile(0.25)\n",
        "Q3 = df.quantile(0.75)\n",
        "IQR = Q3 - Q1\n",
        "\n",
        "# Removing the outliers based on the IQR range and stores the result in the data frame 'df_out'\n",
        "\n",
        "df1 = df[~((df < (Q1 - 1.5 * IQR)) | (df > (Q3 + 1.5 * IQR))).any(axis=1)]\n",
        "\n",
        "# Printing the shape of our new dataset\n",
        "\n",
        "print(df1.shape)\n",
        "\n",
        "# Printing the shape of our old dataset\n",
        "\n",
        "print(df.shape)"
      ],
      "metadata": {
        "colab": {
          "base_uri": "https://localhost:8080/"
        },
        "id": "Fsr6-vTMtqAm",
        "outputId": "f3918dbb-bcc1-453e-8777-2b91f4b13e1d"
      },
      "execution_count": null,
      "outputs": [
        {
          "output_type": "stream",
          "name": "stdout",
          "text": [
            "(9783, 13)\n",
            "(16085, 13)\n"
          ]
        },
        {
          "output_type": "stream",
          "name": "stderr",
          "text": [
            "/usr/local/lib/python3.7/dist-packages/ipykernel_launcher.py:8: FutureWarning: Automatic reindexing on DataFrame vs Series comparisons is deprecated and will raise ValueError in a future version.  Do `left, right = left.align(right, axis=1, copy=False)` before e.g. `left == right`\n",
            "  \n"
          ]
        }
      ]
    },
    {
      "cell_type": "code",
      "source": [
        "# Determining the number of records in the dataset\n",
        "df.shape"
      ],
      "metadata": {
        "colab": {
          "base_uri": "https://localhost:8080/"
        },
        "id": "n-AvgORiytuE",
        "outputId": "9be71476-4597-47f7-d273-956f9c254e5a"
      },
      "execution_count": null,
      "outputs": [
        {
          "output_type": "execute_result",
          "data": {
            "text/plain": [
              "(16085, 13)"
            ]
          },
          "metadata": {},
          "execution_count": 7
        }
      ]
    },
    {
      "cell_type": "code",
      "source": [
        "# Checking for duplicates\n",
        "df1.duplicated().any()"
      ],
      "metadata": {
        "colab": {
          "base_uri": "https://localhost:8080/"
        },
        "id": "bMiVh6Kdy_D_",
        "outputId": "85ae60b1-7e5e-484b-bc5e-81a93b59c8c5"
      },
      "execution_count": null,
      "outputs": [
        {
          "output_type": "execute_result",
          "data": {
            "text/plain": [
              "False"
            ]
          },
          "metadata": {},
          "execution_count": 8
        }
      ]
    },
    {
      "cell_type": "code",
      "source": [
        "# Checking for missing values\n",
        "df1.isnull().any()"
      ],
      "metadata": {
        "colab": {
          "base_uri": "https://localhost:8080/"
        },
        "id": "OS6wSU-BzTS5",
        "outputId": "8d223ad5-b5cc-4fb6-9781-25e3d5416db9"
      },
      "execution_count": null,
      "outputs": [
        {
          "output_type": "execute_result",
          "data": {
            "text/plain": [
              "Postal code               False\n",
              "date                      False\n",
              "n_daily_data_points       False\n",
              "dayOfWeek                 False\n",
              "day_type                  False\n",
              "BlueCars_taken_sum        False\n",
              "BlueCars_returned_sum     False\n",
              "Utilib_taken_sum          False\n",
              "Utilib_returned_sum       False\n",
              "Utilib_14_taken_sum       False\n",
              "Utilib_14_returned_sum    False\n",
              "Slots_freed_sum           False\n",
              "Slots_taken_sum           False\n",
              "dtype: bool"
            ]
          },
          "metadata": {},
          "execution_count": 9
        }
      ]
    },
    {
      "cell_type": "code",
      "source": [
        "df1.isnull().sum().sort_values(ascending=False)"
      ],
      "metadata": {
        "colab": {
          "base_uri": "https://localhost:8080/"
        },
        "id": "ZTFeGQZmzeZY",
        "outputId": "100f7e2d-b341-4813-8979-f7e572fc6555"
      },
      "execution_count": null,
      "outputs": [
        {
          "output_type": "execute_result",
          "data": {
            "text/plain": [
              "Postal code               0\n",
              "date                      0\n",
              "n_daily_data_points       0\n",
              "dayOfWeek                 0\n",
              "day_type                  0\n",
              "BlueCars_taken_sum        0\n",
              "BlueCars_returned_sum     0\n",
              "Utilib_taken_sum          0\n",
              "Utilib_returned_sum       0\n",
              "Utilib_14_taken_sum       0\n",
              "Utilib_14_returned_sum    0\n",
              "Slots_freed_sum           0\n",
              "Slots_taken_sum           0\n",
              "dtype: int64"
            ]
          },
          "metadata": {},
          "execution_count": 10
        }
      ]
    },
    {
      "cell_type": "code",
      "source": [
        "df1.nunique()"
      ],
      "metadata": {
        "colab": {
          "base_uri": "https://localhost:8080/"
        },
        "id": "3C8xRXbezmwe",
        "outputId": "1030ee6a-eb66-46f6-f3e5-7a37dc4e82d2"
      },
      "execution_count": null,
      "outputs": [
        {
          "output_type": "execute_result",
          "data": {
            "text/plain": [
              "Postal code                79\n",
              "date                      130\n",
              "n_daily_data_points         3\n",
              "dayOfWeek                   7\n",
              "day_type                    2\n",
              "BlueCars_taken_sum        275\n",
              "BlueCars_returned_sum     269\n",
              "Utilib_taken_sum           11\n",
              "Utilib_returned_sum        11\n",
              "Utilib_14_taken_sum        24\n",
              "Utilib_14_returned_sum     24\n",
              "Slots_freed_sum            13\n",
              "Slots_taken_sum            13\n",
              "dtype: int64"
            ]
          },
          "metadata": {},
          "execution_count": 11
        }
      ]
    },
    {
      "cell_type": "markdown",
      "source": [
        "# **EXPLORATORY ANALYSIS**"
      ],
      "metadata": {
        "id": "9OKTIf73zrpp"
      }
    },
    {
      "cell_type": "code",
      "source": [
        "# Rename columns\n",
        "col_names = df1.columns.tolist()\n",
        "for col in range(len(col_names)):\n",
        "  col_names[col] = col_names[col].lower().replace(\" \", \"_\")\n",
        "\n",
        "df1.columns = col_names"
      ],
      "metadata": {
        "id": "uD_SIduwz3b_"
      },
      "execution_count": null,
      "outputs": []
    },
    {
      "cell_type": "code",
      "source": [
        "# Displaying the columns\n",
        "df1.columns"
      ],
      "metadata": {
        "colab": {
          "base_uri": "https://localhost:8080/"
        },
        "id": "fcIUj7xV0AYz",
        "outputId": "ce133fc5-008b-42d8-9cfd-c42e0b63f264"
      },
      "execution_count": null,
      "outputs": [
        {
          "output_type": "execute_result",
          "data": {
            "text/plain": [
              "Index(['postal_code', 'date', 'n_daily_data_points', 'dayofweek', 'day_type',\n",
              "       'bluecars_taken_sum', 'bluecars_returned_sum', 'utilib_taken_sum',\n",
              "       'utilib_returned_sum', 'utilib_14_taken_sum', 'utilib_14_returned_sum',\n",
              "       'slots_freed_sum', 'slots_taken_sum'],\n",
              "      dtype='object')"
            ]
          },
          "metadata": {},
          "execution_count": 14
        }
      ]
    },
    {
      "cell_type": "code",
      "source": [
        "df1.shape"
      ],
      "metadata": {
        "colab": {
          "base_uri": "https://localhost:8080/"
        },
        "id": "7WVttOcR0GSl",
        "outputId": "d201ade3-5931-4b74-d5a9-23812e39ca2d"
      },
      "execution_count": null,
      "outputs": [
        {
          "output_type": "execute_result",
          "data": {
            "text/plain": [
              "(9783, 13)"
            ]
          },
          "metadata": {},
          "execution_count": 15
        }
      ]
    },
    {
      "cell_type": "code",
      "source": [
        "df1.drop(['date', 'n_daily_data_points', 'utilib_taken_sum', 'utilib_returned_sum', 'utilib_14_taken_sum', 'utilib_14_returned_sum', 'slots_freed_sum', 'slots_taken_sum'], axis=1, inplace=True)\n",
        "df1"
      ],
      "metadata": {
        "colab": {
          "base_uri": "https://localhost:8080/",
          "height": 530
        },
        "id": "DR1zZvuG0jJJ",
        "outputId": "eb4307d8-515b-4b43-a52a-5c1d88d3384b"
      },
      "execution_count": null,
      "outputs": [
        {
          "output_type": "stream",
          "name": "stderr",
          "text": [
            "/usr/local/lib/python3.7/dist-packages/pandas/core/frame.py:4913: SettingWithCopyWarning: \n",
            "A value is trying to be set on a copy of a slice from a DataFrame\n",
            "\n",
            "See the caveats in the documentation: https://pandas.pydata.org/pandas-docs/stable/user_guide/indexing.html#returning-a-view-versus-a-copy\n",
            "  errors=errors,\n"
          ]
        },
        {
          "output_type": "execute_result",
          "data": {
            "text/plain": [
              "       postal_code  dayofweek day_type  bluecars_taken_sum  \\\n",
              "3899         91330          0  weekday                  19   \n",
              "3900         91330          1  weekday                  10   \n",
              "3901         91330          2  weekday                  11   \n",
              "3903         91330          4  weekday                  10   \n",
              "3905         91330          6  weekend                  28   \n",
              "...            ...        ...      ...                 ...   \n",
              "16079        95880          3  weekday                  15   \n",
              "16080        95880          4  weekday                  15   \n",
              "16081        95880          5  weekend                  19   \n",
              "16082        95880          6  weekend                  33   \n",
              "16083        95880          0  weekday                  11   \n",
              "\n",
              "       bluecars_returned_sum  \n",
              "3899                       9  \n",
              "3900                      10  \n",
              "3901                      13  \n",
              "3903                       6  \n",
              "3905                      17  \n",
              "...                      ...  \n",
              "16079                     13  \n",
              "16080                     10  \n",
              "16081                     19  \n",
              "16082                     35  \n",
              "16083                     14  \n",
              "\n",
              "[9783 rows x 5 columns]"
            ],
            "text/html": [
              "\n",
              "  <div id=\"df-a8cebc25-935a-4ebd-a99a-273e143d28d4\">\n",
              "    <div class=\"colab-df-container\">\n",
              "      <div>\n",
              "<style scoped>\n",
              "    .dataframe tbody tr th:only-of-type {\n",
              "        vertical-align: middle;\n",
              "    }\n",
              "\n",
              "    .dataframe tbody tr th {\n",
              "        vertical-align: top;\n",
              "    }\n",
              "\n",
              "    .dataframe thead th {\n",
              "        text-align: right;\n",
              "    }\n",
              "</style>\n",
              "<table border=\"1\" class=\"dataframe\">\n",
              "  <thead>\n",
              "    <tr style=\"text-align: right;\">\n",
              "      <th></th>\n",
              "      <th>postal_code</th>\n",
              "      <th>dayofweek</th>\n",
              "      <th>day_type</th>\n",
              "      <th>bluecars_taken_sum</th>\n",
              "      <th>bluecars_returned_sum</th>\n",
              "    </tr>\n",
              "  </thead>\n",
              "  <tbody>\n",
              "    <tr>\n",
              "      <th>3899</th>\n",
              "      <td>91330</td>\n",
              "      <td>0</td>\n",
              "      <td>weekday</td>\n",
              "      <td>19</td>\n",
              "      <td>9</td>\n",
              "    </tr>\n",
              "    <tr>\n",
              "      <th>3900</th>\n",
              "      <td>91330</td>\n",
              "      <td>1</td>\n",
              "      <td>weekday</td>\n",
              "      <td>10</td>\n",
              "      <td>10</td>\n",
              "    </tr>\n",
              "    <tr>\n",
              "      <th>3901</th>\n",
              "      <td>91330</td>\n",
              "      <td>2</td>\n",
              "      <td>weekday</td>\n",
              "      <td>11</td>\n",
              "      <td>13</td>\n",
              "    </tr>\n",
              "    <tr>\n",
              "      <th>3903</th>\n",
              "      <td>91330</td>\n",
              "      <td>4</td>\n",
              "      <td>weekday</td>\n",
              "      <td>10</td>\n",
              "      <td>6</td>\n",
              "    </tr>\n",
              "    <tr>\n",
              "      <th>3905</th>\n",
              "      <td>91330</td>\n",
              "      <td>6</td>\n",
              "      <td>weekend</td>\n",
              "      <td>28</td>\n",
              "      <td>17</td>\n",
              "    </tr>\n",
              "    <tr>\n",
              "      <th>...</th>\n",
              "      <td>...</td>\n",
              "      <td>...</td>\n",
              "      <td>...</td>\n",
              "      <td>...</td>\n",
              "      <td>...</td>\n",
              "    </tr>\n",
              "    <tr>\n",
              "      <th>16079</th>\n",
              "      <td>95880</td>\n",
              "      <td>3</td>\n",
              "      <td>weekday</td>\n",
              "      <td>15</td>\n",
              "      <td>13</td>\n",
              "    </tr>\n",
              "    <tr>\n",
              "      <th>16080</th>\n",
              "      <td>95880</td>\n",
              "      <td>4</td>\n",
              "      <td>weekday</td>\n",
              "      <td>15</td>\n",
              "      <td>10</td>\n",
              "    </tr>\n",
              "    <tr>\n",
              "      <th>16081</th>\n",
              "      <td>95880</td>\n",
              "      <td>5</td>\n",
              "      <td>weekend</td>\n",
              "      <td>19</td>\n",
              "      <td>19</td>\n",
              "    </tr>\n",
              "    <tr>\n",
              "      <th>16082</th>\n",
              "      <td>95880</td>\n",
              "      <td>6</td>\n",
              "      <td>weekend</td>\n",
              "      <td>33</td>\n",
              "      <td>35</td>\n",
              "    </tr>\n",
              "    <tr>\n",
              "      <th>16083</th>\n",
              "      <td>95880</td>\n",
              "      <td>0</td>\n",
              "      <td>weekday</td>\n",
              "      <td>11</td>\n",
              "      <td>14</td>\n",
              "    </tr>\n",
              "  </tbody>\n",
              "</table>\n",
              "<p>9783 rows × 5 columns</p>\n",
              "</div>\n",
              "      <button class=\"colab-df-convert\" onclick=\"convertToInteractive('df-a8cebc25-935a-4ebd-a99a-273e143d28d4')\"\n",
              "              title=\"Convert this dataframe to an interactive table.\"\n",
              "              style=\"display:none;\">\n",
              "        \n",
              "  <svg xmlns=\"http://www.w3.org/2000/svg\" height=\"24px\"viewBox=\"0 0 24 24\"\n",
              "       width=\"24px\">\n",
              "    <path d=\"M0 0h24v24H0V0z\" fill=\"none\"/>\n",
              "    <path d=\"M18.56 5.44l.94 2.06.94-2.06 2.06-.94-2.06-.94-.94-2.06-.94 2.06-2.06.94zm-11 1L8.5 8.5l.94-2.06 2.06-.94-2.06-.94L8.5 2.5l-.94 2.06-2.06.94zm10 10l.94 2.06.94-2.06 2.06-.94-2.06-.94-.94-2.06-.94 2.06-2.06.94z\"/><path d=\"M17.41 7.96l-1.37-1.37c-.4-.4-.92-.59-1.43-.59-.52 0-1.04.2-1.43.59L10.3 9.45l-7.72 7.72c-.78.78-.78 2.05 0 2.83L4 21.41c.39.39.9.59 1.41.59.51 0 1.02-.2 1.41-.59l7.78-7.78 2.81-2.81c.8-.78.8-2.07 0-2.86zM5.41 20L4 18.59l7.72-7.72 1.47 1.35L5.41 20z\"/>\n",
              "  </svg>\n",
              "      </button>\n",
              "      \n",
              "  <style>\n",
              "    .colab-df-container {\n",
              "      display:flex;\n",
              "      flex-wrap:wrap;\n",
              "      gap: 12px;\n",
              "    }\n",
              "\n",
              "    .colab-df-convert {\n",
              "      background-color: #E8F0FE;\n",
              "      border: none;\n",
              "      border-radius: 50%;\n",
              "      cursor: pointer;\n",
              "      display: none;\n",
              "      fill: #1967D2;\n",
              "      height: 32px;\n",
              "      padding: 0 0 0 0;\n",
              "      width: 32px;\n",
              "    }\n",
              "\n",
              "    .colab-df-convert:hover {\n",
              "      background-color: #E2EBFA;\n",
              "      box-shadow: 0px 1px 2px rgba(60, 64, 67, 0.3), 0px 1px 3px 1px rgba(60, 64, 67, 0.15);\n",
              "      fill: #174EA6;\n",
              "    }\n",
              "\n",
              "    [theme=dark] .colab-df-convert {\n",
              "      background-color: #3B4455;\n",
              "      fill: #D2E3FC;\n",
              "    }\n",
              "\n",
              "    [theme=dark] .colab-df-convert:hover {\n",
              "      background-color: #434B5C;\n",
              "      box-shadow: 0px 1px 3px 1px rgba(0, 0, 0, 0.15);\n",
              "      filter: drop-shadow(0px 1px 2px rgba(0, 0, 0, 0.3));\n",
              "      fill: #FFFFFF;\n",
              "    }\n",
              "  </style>\n",
              "\n",
              "      <script>\n",
              "        const buttonEl =\n",
              "          document.querySelector('#df-a8cebc25-935a-4ebd-a99a-273e143d28d4 button.colab-df-convert');\n",
              "        buttonEl.style.display =\n",
              "          google.colab.kernel.accessAllowed ? 'block' : 'none';\n",
              "\n",
              "        async function convertToInteractive(key) {\n",
              "          const element = document.querySelector('#df-a8cebc25-935a-4ebd-a99a-273e143d28d4');\n",
              "          const dataTable =\n",
              "            await google.colab.kernel.invokeFunction('convertToInteractive',\n",
              "                                                     [key], {});\n",
              "          if (!dataTable) return;\n",
              "\n",
              "          const docLinkHtml = 'Like what you see? Visit the ' +\n",
              "            '<a target=\"_blank\" href=https://colab.research.google.com/notebooks/data_table.ipynb>data table notebook</a>'\n",
              "            + ' to learn more about interactive tables.';\n",
              "          element.innerHTML = '';\n",
              "          dataTable['output_type'] = 'display_data';\n",
              "          await google.colab.output.renderOutput(dataTable, element);\n",
              "          const docLink = document.createElement('div');\n",
              "          docLink.innerHTML = docLinkHtml;\n",
              "          element.appendChild(docLink);\n",
              "        }\n",
              "      </script>\n",
              "    </div>\n",
              "  </div>\n",
              "  "
            ]
          },
          "metadata": {},
          "execution_count": 16
        }
      ]
    },
    {
      "cell_type": "code",
      "source": [
        "df1.sample(10)"
      ],
      "metadata": {
        "colab": {
          "base_uri": "https://localhost:8080/",
          "height": 363
        },
        "id": "bIYPypmC0rLj",
        "outputId": "f6c6ee0a-9acd-43d4-cc60-80f282c2dc62"
      },
      "execution_count": null,
      "outputs": [
        {
          "output_type": "execute_result",
          "data": {
            "text/plain": [
              "       postal_code  dayofweek day_type  bluecars_taken_sum  \\\n",
              "8597         92380          4  weekday                  20   \n",
              "15876        95870          1  weekday                  11   \n",
              "13815        94140          2  weekday                  36   \n",
              "15533        94800          5  weekend                  98   \n",
              "13127        94100          4  weekday                   5   \n",
              "5445         92150          4  weekday                 166   \n",
              "11901        93370          1  weekday                   4   \n",
              "15380        94700          1  weekday                  26   \n",
              "14180        94160          6  weekend                 113   \n",
              "8882         92400          6  weekend                 127   \n",
              "\n",
              "       bluecars_returned_sum  \n",
              "8597                      17  \n",
              "15876                     10  \n",
              "13815                     41  \n",
              "15533                     93  \n",
              "13127                      4  \n",
              "5445                     160  \n",
              "11901                      2  \n",
              "15380                     24  \n",
              "14180                    115  \n",
              "8882                     131  "
            ],
            "text/html": [
              "\n",
              "  <div id=\"df-03026f38-f428-49a1-b69a-a514fef2c9f5\">\n",
              "    <div class=\"colab-df-container\">\n",
              "      <div>\n",
              "<style scoped>\n",
              "    .dataframe tbody tr th:only-of-type {\n",
              "        vertical-align: middle;\n",
              "    }\n",
              "\n",
              "    .dataframe tbody tr th {\n",
              "        vertical-align: top;\n",
              "    }\n",
              "\n",
              "    .dataframe thead th {\n",
              "        text-align: right;\n",
              "    }\n",
              "</style>\n",
              "<table border=\"1\" class=\"dataframe\">\n",
              "  <thead>\n",
              "    <tr style=\"text-align: right;\">\n",
              "      <th></th>\n",
              "      <th>postal_code</th>\n",
              "      <th>dayofweek</th>\n",
              "      <th>day_type</th>\n",
              "      <th>bluecars_taken_sum</th>\n",
              "      <th>bluecars_returned_sum</th>\n",
              "    </tr>\n",
              "  </thead>\n",
              "  <tbody>\n",
              "    <tr>\n",
              "      <th>8597</th>\n",
              "      <td>92380</td>\n",
              "      <td>4</td>\n",
              "      <td>weekday</td>\n",
              "      <td>20</td>\n",
              "      <td>17</td>\n",
              "    </tr>\n",
              "    <tr>\n",
              "      <th>15876</th>\n",
              "      <td>95870</td>\n",
              "      <td>1</td>\n",
              "      <td>weekday</td>\n",
              "      <td>11</td>\n",
              "      <td>10</td>\n",
              "    </tr>\n",
              "    <tr>\n",
              "      <th>13815</th>\n",
              "      <td>94140</td>\n",
              "      <td>2</td>\n",
              "      <td>weekday</td>\n",
              "      <td>36</td>\n",
              "      <td>41</td>\n",
              "    </tr>\n",
              "    <tr>\n",
              "      <th>15533</th>\n",
              "      <td>94800</td>\n",
              "      <td>5</td>\n",
              "      <td>weekend</td>\n",
              "      <td>98</td>\n",
              "      <td>93</td>\n",
              "    </tr>\n",
              "    <tr>\n",
              "      <th>13127</th>\n",
              "      <td>94100</td>\n",
              "      <td>4</td>\n",
              "      <td>weekday</td>\n",
              "      <td>5</td>\n",
              "      <td>4</td>\n",
              "    </tr>\n",
              "    <tr>\n",
              "      <th>5445</th>\n",
              "      <td>92150</td>\n",
              "      <td>4</td>\n",
              "      <td>weekday</td>\n",
              "      <td>166</td>\n",
              "      <td>160</td>\n",
              "    </tr>\n",
              "    <tr>\n",
              "      <th>11901</th>\n",
              "      <td>93370</td>\n",
              "      <td>1</td>\n",
              "      <td>weekday</td>\n",
              "      <td>4</td>\n",
              "      <td>2</td>\n",
              "    </tr>\n",
              "    <tr>\n",
              "      <th>15380</th>\n",
              "      <td>94700</td>\n",
              "      <td>1</td>\n",
              "      <td>weekday</td>\n",
              "      <td>26</td>\n",
              "      <td>24</td>\n",
              "    </tr>\n",
              "    <tr>\n",
              "      <th>14180</th>\n",
              "      <td>94160</td>\n",
              "      <td>6</td>\n",
              "      <td>weekend</td>\n",
              "      <td>113</td>\n",
              "      <td>115</td>\n",
              "    </tr>\n",
              "    <tr>\n",
              "      <th>8882</th>\n",
              "      <td>92400</td>\n",
              "      <td>6</td>\n",
              "      <td>weekend</td>\n",
              "      <td>127</td>\n",
              "      <td>131</td>\n",
              "    </tr>\n",
              "  </tbody>\n",
              "</table>\n",
              "</div>\n",
              "      <button class=\"colab-df-convert\" onclick=\"convertToInteractive('df-03026f38-f428-49a1-b69a-a514fef2c9f5')\"\n",
              "              title=\"Convert this dataframe to an interactive table.\"\n",
              "              style=\"display:none;\">\n",
              "        \n",
              "  <svg xmlns=\"http://www.w3.org/2000/svg\" height=\"24px\"viewBox=\"0 0 24 24\"\n",
              "       width=\"24px\">\n",
              "    <path d=\"M0 0h24v24H0V0z\" fill=\"none\"/>\n",
              "    <path d=\"M18.56 5.44l.94 2.06.94-2.06 2.06-.94-2.06-.94-.94-2.06-.94 2.06-2.06.94zm-11 1L8.5 8.5l.94-2.06 2.06-.94-2.06-.94L8.5 2.5l-.94 2.06-2.06.94zm10 10l.94 2.06.94-2.06 2.06-.94-2.06-.94-.94-2.06-.94 2.06-2.06.94z\"/><path d=\"M17.41 7.96l-1.37-1.37c-.4-.4-.92-.59-1.43-.59-.52 0-1.04.2-1.43.59L10.3 9.45l-7.72 7.72c-.78.78-.78 2.05 0 2.83L4 21.41c.39.39.9.59 1.41.59.51 0 1.02-.2 1.41-.59l7.78-7.78 2.81-2.81c.8-.78.8-2.07 0-2.86zM5.41 20L4 18.59l7.72-7.72 1.47 1.35L5.41 20z\"/>\n",
              "  </svg>\n",
              "      </button>\n",
              "      \n",
              "  <style>\n",
              "    .colab-df-container {\n",
              "      display:flex;\n",
              "      flex-wrap:wrap;\n",
              "      gap: 12px;\n",
              "    }\n",
              "\n",
              "    .colab-df-convert {\n",
              "      background-color: #E8F0FE;\n",
              "      border: none;\n",
              "      border-radius: 50%;\n",
              "      cursor: pointer;\n",
              "      display: none;\n",
              "      fill: #1967D2;\n",
              "      height: 32px;\n",
              "      padding: 0 0 0 0;\n",
              "      width: 32px;\n",
              "    }\n",
              "\n",
              "    .colab-df-convert:hover {\n",
              "      background-color: #E2EBFA;\n",
              "      box-shadow: 0px 1px 2px rgba(60, 64, 67, 0.3), 0px 1px 3px 1px rgba(60, 64, 67, 0.15);\n",
              "      fill: #174EA6;\n",
              "    }\n",
              "\n",
              "    [theme=dark] .colab-df-convert {\n",
              "      background-color: #3B4455;\n",
              "      fill: #D2E3FC;\n",
              "    }\n",
              "\n",
              "    [theme=dark] .colab-df-convert:hover {\n",
              "      background-color: #434B5C;\n",
              "      box-shadow: 0px 1px 3px 1px rgba(0, 0, 0, 0.15);\n",
              "      filter: drop-shadow(0px 1px 2px rgba(0, 0, 0, 0.3));\n",
              "      fill: #FFFFFF;\n",
              "    }\n",
              "  </style>\n",
              "\n",
              "      <script>\n",
              "        const buttonEl =\n",
              "          document.querySelector('#df-03026f38-f428-49a1-b69a-a514fef2c9f5 button.colab-df-convert');\n",
              "        buttonEl.style.display =\n",
              "          google.colab.kernel.accessAllowed ? 'block' : 'none';\n",
              "\n",
              "        async function convertToInteractive(key) {\n",
              "          const element = document.querySelector('#df-03026f38-f428-49a1-b69a-a514fef2c9f5');\n",
              "          const dataTable =\n",
              "            await google.colab.kernel.invokeFunction('convertToInteractive',\n",
              "                                                     [key], {});\n",
              "          if (!dataTable) return;\n",
              "\n",
              "          const docLinkHtml = 'Like what you see? Visit the ' +\n",
              "            '<a target=\"_blank\" href=https://colab.research.google.com/notebooks/data_table.ipynb>data table notebook</a>'\n",
              "            + ' to learn more about interactive tables.';\n",
              "          element.innerHTML = '';\n",
              "          dataTable['output_type'] = 'display_data';\n",
              "          await google.colab.output.renderOutput(dataTable, element);\n",
              "          const docLink = document.createElement('div');\n",
              "          docLink.innerHTML = docLinkHtml;\n",
              "          element.appendChild(docLink);\n",
              "        }\n",
              "      </script>\n",
              "    </div>\n",
              "  </div>\n",
              "  "
            ]
          },
          "metadata": {},
          "execution_count": 17
        }
      ]
    },
    {
      "cell_type": "code",
      "source": [
        "# Extract the day type data\n",
        "df2 = df1[df1.day_type == 'weekend']"
      ],
      "metadata": {
        "id": "3qKPNp470-oD"
      },
      "execution_count": null,
      "outputs": []
    },
    {
      "cell_type": "markdown",
      "source": [
        "Since the selection requires one set of data which is either weekends or weekdays, I chose to work with the weekends."
      ],
      "metadata": {
        "id": "h4J5u_De1M7E"
      }
    },
    {
      "cell_type": "code",
      "source": [
        "df2.shape"
      ],
      "metadata": {
        "colab": {
          "base_uri": "https://localhost:8080/"
        },
        "id": "Ysu-Oy0y1P51",
        "outputId": "7baf14ed-9d49-4a99-803b-a2f9ce622063"
      },
      "execution_count": null,
      "outputs": [
        {
          "output_type": "execute_result",
          "data": {
            "text/plain": [
              "(2963, 5)"
            ]
          },
          "metadata": {},
          "execution_count": 19
        }
      ]
    },
    {
      "cell_type": "code",
      "source": [
        "df2.columns"
      ],
      "metadata": {
        "colab": {
          "base_uri": "https://localhost:8080/"
        },
        "id": "tXOws-VJ1Wqw",
        "outputId": "b1111b00-02e9-4bf9-c61d-fe747955cf56"
      },
      "execution_count": null,
      "outputs": [
        {
          "output_type": "execute_result",
          "data": {
            "text/plain": [
              "Index(['postal_code', 'dayofweek', 'day_type', 'bluecars_taken_sum',\n",
              "       'bluecars_returned_sum'],\n",
              "      dtype='object')"
            ]
          },
          "metadata": {},
          "execution_count": 20
        }
      ]
    },
    {
      "cell_type": "code",
      "source": [
        "df2.nunique()"
      ],
      "metadata": {
        "colab": {
          "base_uri": "https://localhost:8080/"
        },
        "id": "7wxHFNU-1o-a",
        "outputId": "1e67e88e-1e96-4f57-d880-a16b444fd949"
      },
      "execution_count": null,
      "outputs": [
        {
          "output_type": "execute_result",
          "data": {
            "text/plain": [
              "postal_code               79\n",
              "dayofweek                  2\n",
              "day_type                   1\n",
              "bluecars_taken_sum       241\n",
              "bluecars_returned_sum    234\n",
              "dtype: int64"
            ]
          },
          "metadata": {},
          "execution_count": 21
        }
      ]
    },
    {
      "cell_type": "markdown",
      "source": [
        "# **UNIVARIATE ANALYSIS**"
      ],
      "metadata": {
        "id": "j1DJeDSm1tzv"
      }
    },
    {
      "cell_type": "code",
      "source": [
        "# Get proprotion of day of week\n",
        "df2['dayofweek'].value_counts(normalize=True)*100"
      ],
      "metadata": {
        "colab": {
          "base_uri": "https://localhost:8080/"
        },
        "id": "QNDjYdDW13nh",
        "outputId": "62ee1865-5378-41d0-cd86-cb9656e1afc8"
      },
      "execution_count": null,
      "outputs": [
        {
          "output_type": "execute_result",
          "data": {
            "text/plain": [
              "6    52.78434\n",
              "5    47.21566\n",
              "Name: dayofweek, dtype: float64"
            ]
          },
          "metadata": {},
          "execution_count": 22
        }
      ]
    },
    {
      "cell_type": "markdown",
      "source": [
        "The days of the weekends have been displayed with 5 and 6 where 5 is Saturday and 6 is Sunday."
      ],
      "metadata": {
        "id": "PUhTnDca2O_h"
      }
    },
    {
      "cell_type": "code",
      "source": [
        "# Describe numerical variables\n",
        "df2[['bluecars_taken_sum','bluecars_returned_sum']].describe()"
      ],
      "metadata": {
        "colab": {
          "base_uri": "https://localhost:8080/",
          "height": 300
        },
        "id": "xNvWA-yc2mQQ",
        "outputId": "b7973bcb-522d-4099-97b6-a030dcd34b0f"
      },
      "execution_count": null,
      "outputs": [
        {
          "output_type": "execute_result",
          "data": {
            "text/plain": [
              "       bluecars_taken_sum  bluecars_returned_sum\n",
              "count         2963.000000            2963.000000\n",
              "mean            57.718529              57.354708\n",
              "std             48.991550              49.600634\n",
              "min              0.000000               0.000000\n",
              "25%             21.000000              20.000000\n",
              "50%             43.000000              42.000000\n",
              "75%             82.000000              82.000000\n",
              "max            293.000000             301.000000"
            ],
            "text/html": [
              "\n",
              "  <div id=\"df-0820507b-f8fc-46d8-8136-fbe66ab52219\">\n",
              "    <div class=\"colab-df-container\">\n",
              "      <div>\n",
              "<style scoped>\n",
              "    .dataframe tbody tr th:only-of-type {\n",
              "        vertical-align: middle;\n",
              "    }\n",
              "\n",
              "    .dataframe tbody tr th {\n",
              "        vertical-align: top;\n",
              "    }\n",
              "\n",
              "    .dataframe thead th {\n",
              "        text-align: right;\n",
              "    }\n",
              "</style>\n",
              "<table border=\"1\" class=\"dataframe\">\n",
              "  <thead>\n",
              "    <tr style=\"text-align: right;\">\n",
              "      <th></th>\n",
              "      <th>bluecars_taken_sum</th>\n",
              "      <th>bluecars_returned_sum</th>\n",
              "    </tr>\n",
              "  </thead>\n",
              "  <tbody>\n",
              "    <tr>\n",
              "      <th>count</th>\n",
              "      <td>2963.000000</td>\n",
              "      <td>2963.000000</td>\n",
              "    </tr>\n",
              "    <tr>\n",
              "      <th>mean</th>\n",
              "      <td>57.718529</td>\n",
              "      <td>57.354708</td>\n",
              "    </tr>\n",
              "    <tr>\n",
              "      <th>std</th>\n",
              "      <td>48.991550</td>\n",
              "      <td>49.600634</td>\n",
              "    </tr>\n",
              "    <tr>\n",
              "      <th>min</th>\n",
              "      <td>0.000000</td>\n",
              "      <td>0.000000</td>\n",
              "    </tr>\n",
              "    <tr>\n",
              "      <th>25%</th>\n",
              "      <td>21.000000</td>\n",
              "      <td>20.000000</td>\n",
              "    </tr>\n",
              "    <tr>\n",
              "      <th>50%</th>\n",
              "      <td>43.000000</td>\n",
              "      <td>42.000000</td>\n",
              "    </tr>\n",
              "    <tr>\n",
              "      <th>75%</th>\n",
              "      <td>82.000000</td>\n",
              "      <td>82.000000</td>\n",
              "    </tr>\n",
              "    <tr>\n",
              "      <th>max</th>\n",
              "      <td>293.000000</td>\n",
              "      <td>301.000000</td>\n",
              "    </tr>\n",
              "  </tbody>\n",
              "</table>\n",
              "</div>\n",
              "      <button class=\"colab-df-convert\" onclick=\"convertToInteractive('df-0820507b-f8fc-46d8-8136-fbe66ab52219')\"\n",
              "              title=\"Convert this dataframe to an interactive table.\"\n",
              "              style=\"display:none;\">\n",
              "        \n",
              "  <svg xmlns=\"http://www.w3.org/2000/svg\" height=\"24px\"viewBox=\"0 0 24 24\"\n",
              "       width=\"24px\">\n",
              "    <path d=\"M0 0h24v24H0V0z\" fill=\"none\"/>\n",
              "    <path d=\"M18.56 5.44l.94 2.06.94-2.06 2.06-.94-2.06-.94-.94-2.06-.94 2.06-2.06.94zm-11 1L8.5 8.5l.94-2.06 2.06-.94-2.06-.94L8.5 2.5l-.94 2.06-2.06.94zm10 10l.94 2.06.94-2.06 2.06-.94-2.06-.94-.94-2.06-.94 2.06-2.06.94z\"/><path d=\"M17.41 7.96l-1.37-1.37c-.4-.4-.92-.59-1.43-.59-.52 0-1.04.2-1.43.59L10.3 9.45l-7.72 7.72c-.78.78-.78 2.05 0 2.83L4 21.41c.39.39.9.59 1.41.59.51 0 1.02-.2 1.41-.59l7.78-7.78 2.81-2.81c.8-.78.8-2.07 0-2.86zM5.41 20L4 18.59l7.72-7.72 1.47 1.35L5.41 20z\"/>\n",
              "  </svg>\n",
              "      </button>\n",
              "      \n",
              "  <style>\n",
              "    .colab-df-container {\n",
              "      display:flex;\n",
              "      flex-wrap:wrap;\n",
              "      gap: 12px;\n",
              "    }\n",
              "\n",
              "    .colab-df-convert {\n",
              "      background-color: #E8F0FE;\n",
              "      border: none;\n",
              "      border-radius: 50%;\n",
              "      cursor: pointer;\n",
              "      display: none;\n",
              "      fill: #1967D2;\n",
              "      height: 32px;\n",
              "      padding: 0 0 0 0;\n",
              "      width: 32px;\n",
              "    }\n",
              "\n",
              "    .colab-df-convert:hover {\n",
              "      background-color: #E2EBFA;\n",
              "      box-shadow: 0px 1px 2px rgba(60, 64, 67, 0.3), 0px 1px 3px 1px rgba(60, 64, 67, 0.15);\n",
              "      fill: #174EA6;\n",
              "    }\n",
              "\n",
              "    [theme=dark] .colab-df-convert {\n",
              "      background-color: #3B4455;\n",
              "      fill: #D2E3FC;\n",
              "    }\n",
              "\n",
              "    [theme=dark] .colab-df-convert:hover {\n",
              "      background-color: #434B5C;\n",
              "      box-shadow: 0px 1px 3px 1px rgba(0, 0, 0, 0.15);\n",
              "      filter: drop-shadow(0px 1px 2px rgba(0, 0, 0, 0.3));\n",
              "      fill: #FFFFFF;\n",
              "    }\n",
              "  </style>\n",
              "\n",
              "      <script>\n",
              "        const buttonEl =\n",
              "          document.querySelector('#df-0820507b-f8fc-46d8-8136-fbe66ab52219 button.colab-df-convert');\n",
              "        buttonEl.style.display =\n",
              "          google.colab.kernel.accessAllowed ? 'block' : 'none';\n",
              "\n",
              "        async function convertToInteractive(key) {\n",
              "          const element = document.querySelector('#df-0820507b-f8fc-46d8-8136-fbe66ab52219');\n",
              "          const dataTable =\n",
              "            await google.colab.kernel.invokeFunction('convertToInteractive',\n",
              "                                                     [key], {});\n",
              "          if (!dataTable) return;\n",
              "\n",
              "          const docLinkHtml = 'Like what you see? Visit the ' +\n",
              "            '<a target=\"_blank\" href=https://colab.research.google.com/notebooks/data_table.ipynb>data table notebook</a>'\n",
              "            + ' to learn more about interactive tables.';\n",
              "          element.innerHTML = '';\n",
              "          dataTable['output_type'] = 'display_data';\n",
              "          await google.colab.output.renderOutput(dataTable, element);\n",
              "          const docLink = document.createElement('div');\n",
              "          docLink.innerHTML = docLinkHtml;\n",
              "          element.appendChild(docLink);\n",
              "        }\n",
              "      </script>\n",
              "    </div>\n",
              "  </div>\n",
              "  "
            ]
          },
          "metadata": {},
          "execution_count": 23
        }
      ]
    },
    {
      "cell_type": "code",
      "source": [
        "# Plot bluecars taken\n",
        "sns.distplot(df2['bluecars_taken_sum'], bins=10)\n",
        "plt.title('distribution of blue cars taken')"
      ],
      "metadata": {
        "colab": {
          "base_uri": "https://localhost:8080/",
          "height": 368
        },
        "id": "mSvtvG3p2sqs",
        "outputId": "7c89235c-7bc3-448d-f8c7-63add34e50d4"
      },
      "execution_count": null,
      "outputs": [
        {
          "output_type": "stream",
          "name": "stderr",
          "text": [
            "/usr/local/lib/python3.7/dist-packages/seaborn/distributions.py:2619: FutureWarning: `distplot` is a deprecated function and will be removed in a future version. Please adapt your code to use either `displot` (a figure-level function with similar flexibility) or `histplot` (an axes-level function for histograms).\n",
            "  warnings.warn(msg, FutureWarning)\n"
          ]
        },
        {
          "output_type": "execute_result",
          "data": {
            "text/plain": [
              "Text(0.5, 1.0, 'distribution of blue cars taken')"
            ]
          },
          "metadata": {},
          "execution_count": 24
        },
        {
          "output_type": "display_data",
          "data": {
            "text/plain": [
              "<Figure size 432x288 with 1 Axes>"
            ],
            "image/png": "[encoded data removed]"
          },
          "metadata": {
            "needs_background": "light"
          }
        }
      ]
    },
    {
      "cell_type": "code",
      "source": [
        "# Plot bluecars returned \n",
        "sns.distplot(df2['bluecars_returned_sum'], bins=10)\n",
        "plt.title('distribution of blue cars returned')"
      ],
      "metadata": {
        "colab": {
          "base_uri": "https://localhost:8080/",
          "height": 368
        },
        "id": "w66ORBjz21sB",
        "outputId": "3b75800c-24cc-41e0-f601-228877a79054"
      },
      "execution_count": null,
      "outputs": [
        {
          "output_type": "stream",
          "name": "stderr",
          "text": [
            "/usr/local/lib/python3.7/dist-packages/seaborn/distributions.py:2619: FutureWarning: `distplot` is a deprecated function and will be removed in a future version. Please adapt your code to use either `displot` (a figure-level function with similar flexibility) or `histplot` (an axes-level function for histograms).\n",
            "  warnings.warn(msg, FutureWarning)\n"
          ]
        },
        {
          "output_type": "execute_result",
          "data": {
            "text/plain": [
              "Text(0.5, 1.0, 'distribution of blue cars returned')"
            ]
          },
          "metadata": {},
          "execution_count": 25
        },
        {
          "output_type": "display_data",
          "data": {
            "text/plain": [
              "<Figure size 432x288 with 1 Axes>"
            ],
            "image/png": "[encoded data removed]"
          },
          "metadata": {
            "needs_background": "light"
          }
        }
      ]
    },
    {
      "cell_type": "code",
      "source": [
        "# Plotting a bar graph of the sum of blue cars returned\n",
        "df2['bluecars_returned_sum'].value_counts().head().plot.bar()"
      ],
      "metadata": {
        "colab": {
          "base_uri": "https://localhost:8080/",
          "height": 285
        },
        "id": "Dw8sADdd3AA-",
        "outputId": "ef9e6a77-bf85-417d-d922-90f759349fd1"
      },
      "execution_count": null,
      "outputs": [
        {
          "output_type": "execute_result",
          "data": {
            "text/plain": [
              "<matplotlib.axes._subplots.AxesSubplot at 0x7f5b4365e110>"
            ]
          },
          "metadata": {},
          "execution_count": 26
        },
        {
          "output_type": "display_data",
          "data": {
            "text/plain": [
              "<Figure size 432x288 with 1 Axes>"
            ],
            "image/png": "[encoded data removed]"
          },
          "metadata": {
            "needs_background": "light"
          }
        }
      ]
    },
    {
      "cell_type": "code",
      "source": [
        "# PLotting a bar graph of the sum of blue cars taken\n",
        "df2['bluecars_taken_sum'].value_counts().head().plot.bar()"
      ],
      "metadata": {
        "colab": {
          "base_uri": "https://localhost:8080/",
          "height": 285
        },
        "id": "IZnzT-4K3RB0",
        "outputId": "8cd4766a-7d8b-4ba2-d0a8-f83679a0f388"
      },
      "execution_count": null,
      "outputs": [
        {
          "output_type": "execute_result",
          "data": {
            "text/plain": [
              "<matplotlib.axes._subplots.AxesSubplot at 0x7f5b43573350>"
            ]
          },
          "metadata": {},
          "execution_count": 31
        },
        {
          "output_type": "display_data",
          "data": {
            "text/plain": [
              "<Figure size 432x288 with 1 Axes>"
            ],
            "image/png": "[encoded data removed]"
          },
          "metadata": {
            "needs_background": "light"
          }
        }
      ]
    },
    {
      "cell_type": "code",
      "source": [
        "df2.dtypes"
      ],
      "metadata": {
        "colab": {
          "base_uri": "https://localhost:8080/"
        },
        "id": "xyKz8W1s4Fs7",
        "outputId": "6602f8d9-c5e5-44b8-fd77-b55f0f80d923"
      },
      "execution_count": null,
      "outputs": [
        {
          "output_type": "execute_result",
          "data": {
            "text/plain": [
              "postal_code              object\n",
              "dayofweek                 int64\n",
              "day_type                 object\n",
              "bluecars_taken_sum        int64\n",
              "bluecars_returned_sum     int64\n",
              "dtype: object"
            ]
          },
          "metadata": {},
          "execution_count": 32
        }
      ]
    },
    {
      "cell_type": "code",
      "source": [
        "# Changing the day of the week to a string\n",
        "df2['postal_code'] = df2['postal_code'].apply(str)\n",
        "print(df2.dtypes)"
      ],
      "metadata": {
        "colab": {
          "base_uri": "https://localhost:8080/"
        },
        "id": "oqptc0T53lSv",
        "outputId": "0abf358c-94e3-4216-d1f5-464aabdf1822"
      },
      "execution_count": null,
      "outputs": [
        {
          "output_type": "stream",
          "name": "stdout",
          "text": [
            "postal_code              object\n",
            "dayofweek                object\n",
            "day_type                 object\n",
            "bluecars_taken_sum        int64\n",
            "bluecars_returned_sum     int64\n",
            "dtype: object\n"
          ]
        },
        {
          "output_type": "stream",
          "name": "stderr",
          "text": [
            "/usr/local/lib/python3.7/dist-packages/ipykernel_launcher.py:2: SettingWithCopyWarning: \n",
            "A value is trying to be set on a copy of a slice from a DataFrame.\n",
            "Try using .loc[row_indexer,col_indexer] = value instead\n",
            "\n",
            "See the caveats in the documentation: https://pandas.pydata.org/pandas-docs/stable/user_guide/indexing.html#returning-a-view-versus-a-copy\n",
            "  \n"
          ]
        }
      ]
    },
    {
      "cell_type": "code",
      "source": [
        "# Changing the day of the week to a string\n",
        "df2['dayofweek'] = df2['dayofweek'].apply(str)\n",
        "print(df2.dtypes)"
      ],
      "metadata": {
        "colab": {
          "base_uri": "https://localhost:8080/"
        },
        "id": "5Xf_uD3V35Im",
        "outputId": "468fe820-6bff-4054-a8b3-b7b0e127218a"
      },
      "execution_count": null,
      "outputs": [
        {
          "output_type": "stream",
          "name": "stdout",
          "text": [
            "postal_code              object\n",
            "dayofweek                object\n",
            "day_type                 object\n",
            "bluecars_taken_sum        int64\n",
            "bluecars_returned_sum     int64\n",
            "dtype: object\n"
          ]
        },
        {
          "output_type": "stream",
          "name": "stderr",
          "text": [
            "/usr/local/lib/python3.7/dist-packages/ipykernel_launcher.py:2: SettingWithCopyWarning: \n",
            "A value is trying to be set on a copy of a slice from a DataFrame.\n",
            "Try using .loc[row_indexer,col_indexer] = value instead\n",
            "\n",
            "See the caveats in the documentation: https://pandas.pydata.org/pandas-docs/stable/user_guide/indexing.html#returning-a-view-versus-a-copy\n",
            "  \n"
          ]
        }
      ]
    },
    {
      "cell_type": "markdown",
      "source": [
        "# **BIVARIATE ANALYSIS**"
      ],
      "metadata": {
        "id": "OWqLfBFe4kw4"
      }
    },
    {
      "cell_type": "code",
      "source": [
        "# Ploting the bivariate summaries \n",
        "# scatterplot\n",
        "sns.pairplot(df2)\n",
        "plt.show()"
      ],
      "metadata": {
        "colab": {
          "base_uri": "https://localhost:8080/",
          "height": 374
        },
        "id": "3OL-hCyU4ru7",
        "outputId": "7395d355-a61c-4f82-891b-8a88c71f7091"
      },
      "execution_count": null,
      "outputs": [
        {
          "output_type": "display_data",
          "data": {
            "text/plain": [
              "<Figure size 360x360 with 6 Axes>"
            ],
            "image/png": "[encoded data removed]"
          },
          "metadata": {
            "needs_background": "light"
          }
        }
      ]
    },
    {
      "cell_type": "code",
      "source": [
        "# Determinining the correlation between numeric features\n",
        "plt.figure(figsize=(12,10))\n",
        "sns.pairplot(df2[['bluecars_taken_sum','bluecars_returned_sum']])\n",
        "plt.title('bluecars_taken vs bluecars_returned_sum')"
      ],
      "metadata": {
        "colab": {
          "base_uri": "https://localhost:8080/",
          "height": 409
        },
        "id": "YW40Bk4B5IOJ",
        "outputId": "9f2768ac-83fc-444e-9fc3-500fbdddf17b"
      },
      "execution_count": null,
      "outputs": [
        {
          "output_type": "execute_result",
          "data": {
            "text/plain": [
              "Text(0.5, 1.0, 'bluecars_taken vs bluecars_returned_sum')"
            ]
          },
          "metadata": {},
          "execution_count": 39
        },
        {
          "output_type": "display_data",
          "data": {
            "text/plain": [
              "<Figure size 864x720 with 0 Axes>"
            ]
          },
          "metadata": {}
        },
        {
          "output_type": "display_data",
          "data": {
            "text/plain": [
              "<Figure size 360x360 with 6 Axes>"
            ],
            "image/png": "[encoded data removed]"
          },
          "metadata": {
            "needs_background": "light"
          }
        }
      ]
    },
    {
      "cell_type": "code",
      "source": [
        "# Correlation\n",
        "df2['bluecars_taken_sum'].corr(df2['bluecars_returned_sum'])"
      ],
      "metadata": {
        "colab": {
          "base_uri": "https://localhost:8080/"
        },
        "id": "IKufKFsC5Yry",
        "outputId": "e567bb97-e6df-4062-ce44-40280ad88be3"
      },
      "execution_count": null,
      "outputs": [
        {
          "output_type": "execute_result",
          "data": {
            "text/plain": [
              "0.9906487464480561"
            ]
          },
          "metadata": {},
          "execution_count": 40
        }
      ]
    },
    {
      "cell_type": "code",
      "source": [
        "# Displaying a Heatmap \n",
        "sns.heatmap(df2.corr(),annot=True)\n",
        "plt.show()"
      ],
      "metadata": {
        "colab": {
          "base_uri": "https://localhost:8080/",
          "height": 270
        },
        "id": "CcMhoe705spL",
        "outputId": "83ebaa0c-ad36-44f1-a2c3-8be9029c8a60"
      },
      "execution_count": null,
      "outputs": [
        {
          "output_type": "display_data",
          "data": {
            "text/plain": [
              "<Figure size 432x288 with 2 Axes>"
            ],
            "image/png": "[encoded data removed]"
          },
          "metadata": {
            "needs_background": "light"
          }
        }
      ]
    },
    {
      "cell_type": "markdown",
      "source": [
        "# **IMPLEMENTING THE SOLUTION**"
      ],
      "metadata": {
        "id": "u2jbbJSR6BVt"
      }
    },
    {
      "cell_type": "markdown",
      "source": [
        "# Hypothesis Testing"
      ],
      "metadata": {
        "id": "QuOVxOjX6Gcm"
      }
    },
    {
      "cell_type": "code",
      "source": [
        "# Null hypothesis: the average number of blue cars taken is not different from that of the blue cars returned?\n",
        "\n",
        "# Alternative hypothesis: the average number of blue cars taken is different from that of the blue cars returned?"
      ],
      "metadata": {
        "id": "t38au4lJ6M4i"
      },
      "execution_count": null,
      "outputs": []
    },
    {
      "cell_type": "code",
      "source": [
        "# Displying the columns\n",
        "df2.columns"
      ],
      "metadata": {
        "colab": {
          "base_uri": "https://localhost:8080/"
        },
        "id": "52MWPVqJ6s86",
        "outputId": "a1dfab8b-51a3-4bef-b26e-3e32489c44e8"
      },
      "execution_count": null,
      "outputs": [
        {
          "output_type": "execute_result",
          "data": {
            "text/plain": [
              "Index(['postal_code', 'dayofweek', 'day_type', 'bluecars_taken_sum',\n",
              "       'bluecars_returned_sum'],\n",
              "      dtype='object')"
            ]
          },
          "metadata": {},
          "execution_count": 43
        }
      ]
    },
    {
      "cell_type": "code",
      "source": [
        "# Displaying the data types\n",
        "df2.dtypes"
      ],
      "metadata": {
        "colab": {
          "base_uri": "https://localhost:8080/"
        },
        "id": "yBWlo8HM699S",
        "outputId": "590d978d-3d6e-48a8-95a4-2a8dd2775eca"
      },
      "execution_count": null,
      "outputs": [
        {
          "output_type": "execute_result",
          "data": {
            "text/plain": [
              "postal_code              object\n",
              "dayofweek                object\n",
              "day_type                 object\n",
              "bluecars_taken_sum        int64\n",
              "bluecars_returned_sum     int64\n",
              "dtype: object"
            ]
          },
          "metadata": {},
          "execution_count": 44
        }
      ]
    },
    {
      "cell_type": "code",
      "source": [
        "# Dropping day type column\n",
        "df2.drop(['day_type'], axis=1, inplace=True)\n",
        "df2"
      ],
      "metadata": {
        "colab": {
          "base_uri": "https://localhost:8080/",
          "height": 530
        },
        "id": "g86x3Wgi7L9a",
        "outputId": "8b9ea54a-515c-4fef-9ba4-0ec9dde56984"
      },
      "execution_count": null,
      "outputs": [
        {
          "output_type": "stream",
          "name": "stderr",
          "text": [
            "/usr/local/lib/python3.7/dist-packages/pandas/core/frame.py:4913: SettingWithCopyWarning: \n",
            "A value is trying to be set on a copy of a slice from a DataFrame\n",
            "\n",
            "See the caveats in the documentation: https://pandas.pydata.org/pandas-docs/stable/user_guide/indexing.html#returning-a-view-versus-a-copy\n",
            "  errors=errors,\n"
          ]
        },
        {
          "output_type": "execute_result",
          "data": {
            "text/plain": [
              "      postal_code dayofweek  bluecars_taken_sum  bluecars_returned_sum\n",
              "3905        91330         6                  28                     17\n",
              "3911        91330         5                  24                     21\n",
              "3912        91330         6                  27                     30\n",
              "3918        91330         5                  16                     10\n",
              "3919        91330         6                  18                     14\n",
              "...           ...       ...                 ...                    ...\n",
              "16068       95880         6                  36                     33\n",
              "16074       95880         5                  15                     15\n",
              "16075       95880         6                  34                     32\n",
              "16081       95880         5                  19                     19\n",
              "16082       95880         6                  33                     35\n",
              "\n",
              "[2963 rows x 4 columns]"
            ],
            "text/html": [
              "\n",
              "  <div id=\"df-9826818c-6b18-4e65-8050-53fa4d7728d2\">\n",
              "    <div class=\"colab-df-container\">\n",
              "      <div>\n",
              "<style scoped>\n",
              "    .dataframe tbody tr th:only-of-type {\n",
              "        vertical-align: middle;\n",
              "    }\n",
              "\n",
              "    .dataframe tbody tr th {\n",
              "        vertical-align: top;\n",
              "    }\n",
              "\n",
              "    .dataframe thead th {\n",
              "        text-align: right;\n",
              "    }\n",
              "</style>\n",
              "<table border=\"1\" class=\"dataframe\">\n",
              "  <thead>\n",
              "    <tr style=\"text-align: right;\">\n",
              "      <th></th>\n",
              "      <th>postal_code</th>\n",
              "      <th>dayofweek</th>\n",
              "      <th>bluecars_taken_sum</th>\n",
              "      <th>bluecars_returned_sum</th>\n",
              "    </tr>\n",
              "  </thead>\n",
              "  <tbody>\n",
              "    <tr>\n",
              "      <th>3905</th>\n",
              "      <td>91330</td>\n",
              "      <td>6</td>\n",
              "      <td>28</td>\n",
              "      <td>17</td>\n",
              "    </tr>\n",
              "    <tr>\n",
              "      <th>3911</th>\n",
              "      <td>91330</td>\n",
              "      <td>5</td>\n",
              "      <td>24</td>\n",
              "      <td>21</td>\n",
              "    </tr>\n",
              "    <tr>\n",
              "      <th>3912</th>\n",
              "      <td>91330</td>\n",
              "      <td>6</td>\n",
              "      <td>27</td>\n",
              "      <td>30</td>\n",
              "    </tr>\n",
              "    <tr>\n",
              "      <th>3918</th>\n",
              "      <td>91330</td>\n",
              "      <td>5</td>\n",
              "      <td>16</td>\n",
              "      <td>10</td>\n",
              "    </tr>\n",
              "    <tr>\n",
              "      <th>3919</th>\n",
              "      <td>91330</td>\n",
              "      <td>6</td>\n",
              "      <td>18</td>\n",
              "      <td>14</td>\n",
              "    </tr>\n",
              "    <tr>\n",
              "      <th>...</th>\n",
              "      <td>...</td>\n",
              "      <td>...</td>\n",
              "      <td>...</td>\n",
              "      <td>...</td>\n",
              "    </tr>\n",
              "    <tr>\n",
              "      <th>16068</th>\n",
              "      <td>95880</td>\n",
              "      <td>6</td>\n",
              "      <td>36</td>\n",
              "      <td>33</td>\n",
              "    </tr>\n",
              "    <tr>\n",
              "      <th>16074</th>\n",
              "      <td>95880</td>\n",
              "      <td>5</td>\n",
              "      <td>15</td>\n",
              "      <td>15</td>\n",
              "    </tr>\n",
              "    <tr>\n",
              "      <th>16075</th>\n",
              "      <td>95880</td>\n",
              "      <td>6</td>\n",
              "      <td>34</td>\n",
              "      <td>32</td>\n",
              "    </tr>\n",
              "    <tr>\n",
              "      <th>16081</th>\n",
              "      <td>95880</td>\n",
              "      <td>5</td>\n",
              "      <td>19</td>\n",
              "      <td>19</td>\n",
              "    </tr>\n",
              "    <tr>\n",
              "      <th>16082</th>\n",
              "      <td>95880</td>\n",
              "      <td>6</td>\n",
              "      <td>33</td>\n",
              "      <td>35</td>\n",
              "    </tr>\n",
              "  </tbody>\n",
              "</table>\n",
              "<p>2963 rows × 4 columns</p>\n",
              "</div>\n",
              "      <button class=\"colab-df-convert\" onclick=\"convertToInteractive('df-9826818c-6b18-4e65-8050-53fa4d7728d2')\"\n",
              "              title=\"Convert this dataframe to an interactive table.\"\n",
              "              style=\"display:none;\">\n",
              "        \n",
              "  <svg xmlns=\"http://www.w3.org/2000/svg\" height=\"24px\"viewBox=\"0 0 24 24\"\n",
              "       width=\"24px\">\n",
              "    <path d=\"M0 0h24v24H0V0z\" fill=\"none\"/>\n",
              "    <path d=\"M18.56 5.44l.94 2.06.94-2.06 2.06-.94-2.06-.94-.94-2.06-.94 2.06-2.06.94zm-11 1L8.5 8.5l.94-2.06 2.06-.94-2.06-.94L8.5 2.5l-.94 2.06-2.06.94zm10 10l.94 2.06.94-2.06 2.06-.94-2.06-.94-.94-2.06-.94 2.06-2.06.94z\"/><path d=\"M17.41 7.96l-1.37-1.37c-.4-.4-.92-.59-1.43-.59-.52 0-1.04.2-1.43.59L10.3 9.45l-7.72 7.72c-.78.78-.78 2.05 0 2.83L4 21.41c.39.39.9.59 1.41.59.51 0 1.02-.2 1.41-.59l7.78-7.78 2.81-2.81c.8-.78.8-2.07 0-2.86zM5.41 20L4 18.59l7.72-7.72 1.47 1.35L5.41 20z\"/>\n",
              "  </svg>\n",
              "      </button>\n",
              "      \n",
              "  <style>\n",
              "    .colab-df-container {\n",
              "      display:flex;\n",
              "      flex-wrap:wrap;\n",
              "      gap: 12px;\n",
              "    }\n",
              "\n",
              "    .colab-df-convert {\n",
              "      background-color: #E8F0FE;\n",
              "      border: none;\n",
              "      border-radius: 50%;\n",
              "      cursor: pointer;\n",
              "      display: none;\n",
              "      fill: #1967D2;\n",
              "      height: 32px;\n",
              "      padding: 0 0 0 0;\n",
              "      width: 32px;\n",
              "    }\n",
              "\n",
              "    .colab-df-convert:hover {\n",
              "      background-color: #E2EBFA;\n",
              "      box-shadow: 0px 1px 2px rgba(60, 64, 67, 0.3), 0px 1px 3px 1px rgba(60, 64, 67, 0.15);\n",
              "      fill: #174EA6;\n",
              "    }\n",
              "\n",
              "    [theme=dark] .colab-df-convert {\n",
              "      background-color: #3B4455;\n",
              "      fill: #D2E3FC;\n",
              "    }\n",
              "\n",
              "    [theme=dark] .colab-df-convert:hover {\n",
              "      background-color: #434B5C;\n",
              "      box-shadow: 0px 1px 3px 1px rgba(0, 0, 0, 0.15);\n",
              "      filter: drop-shadow(0px 1px 2px rgba(0, 0, 0, 0.3));\n",
              "      fill: #FFFFFF;\n",
              "    }\n",
              "  </style>\n",
              "\n",
              "      <script>\n",
              "        const buttonEl =\n",
              "          document.querySelector('#df-9826818c-6b18-4e65-8050-53fa4d7728d2 button.colab-df-convert');\n",
              "        buttonEl.style.display =\n",
              "          google.colab.kernel.accessAllowed ? 'block' : 'none';\n",
              "\n",
              "        async function convertToInteractive(key) {\n",
              "          const element = document.querySelector('#df-9826818c-6b18-4e65-8050-53fa4d7728d2');\n",
              "          const dataTable =\n",
              "            await google.colab.kernel.invokeFunction('convertToInteractive',\n",
              "                                                     [key], {});\n",
              "          if (!dataTable) return;\n",
              "\n",
              "          const docLinkHtml = 'Like what you see? Visit the ' +\n",
              "            '<a target=\"_blank\" href=https://colab.research.google.com/notebooks/data_table.ipynb>data table notebook</a>'\n",
              "            + ' to learn more about interactive tables.';\n",
              "          element.innerHTML = '';\n",
              "          dataTable['output_type'] = 'display_data';\n",
              "          await google.colab.output.renderOutput(dataTable, element);\n",
              "          const docLink = document.createElement('div');\n",
              "          docLink.innerHTML = docLinkHtml;\n",
              "          element.appendChild(docLink);\n",
              "        }\n",
              "      </script>\n",
              "    </div>\n",
              "  </div>\n",
              "  "
            ]
          },
          "metadata": {},
          "execution_count": 45
        }
      ]
    },
    {
      "cell_type": "code",
      "source": [
        "# Visualization styling code\n",
        "sns.set(rc={'figure.figsize':(13, 7.5)})\n",
        "sns.set_context('talk')"
      ],
      "metadata": {
        "id": "Dl2-gdHL7YYV"
      },
      "execution_count": null,
      "outputs": []
    },
    {
      "cell_type": "code",
      "source": [
        "# turning off warnings\n",
        "import warnings\n",
        "warnings.filterwarnings('ignore')"
      ],
      "metadata": {
        "id": "CBoY9uhI82oh"
      },
      "execution_count": null,
      "outputs": []
    },
    {
      "cell_type": "code",
      "source": [
        "df2.count()"
      ],
      "metadata": {
        "colab": {
          "base_uri": "https://localhost:8080/"
        },
        "id": "DMPBqiy_7sdf",
        "outputId": "24040d4f-a956-4c17-f2fd-e7dc8941c2fc"
      },
      "execution_count": null,
      "outputs": [
        {
          "output_type": "execute_result",
          "data": {
            "text/plain": [
              "postal_code              2963\n",
              "dayofweek                2963\n",
              "bluecars_taken_sum       2963\n",
              "bluecars_returned_sum    2963\n",
              "dtype: int64"
            ]
          },
          "metadata": {},
          "execution_count": 48
        }
      ]
    },
    {
      "cell_type": "code",
      "source": [
        "# Normality Test\n",
        "\n",
        "from scipy.stats import shapiro\n",
        "\n",
        "def shapiro_test(df2, col_list):\n",
        "    for x in col_list:\n",
        "        print(x)\n",
        "        data = df2[x]\n",
        "        stat, p = shapiro(data)\n",
        "        print('Statistics=%.3f, p=%.3f' % (stat, p))\n",
        "        # interpret\n",
        "        alpha = 0.05\n",
        "        if p > alpha:\n",
        "            print('Sample looks Gaussian (fail to reject H0)')\n",
        "        else:\n",
        "            print('Sample does not look Gaussian (reject H0)')\n",
        "        print('\\n')"
      ],
      "metadata": {
        "id": "eSlSJoC68cnC"
      },
      "execution_count": null,
      "outputs": []
    },
    {
      "cell_type": "code",
      "source": [
        "# shapiro Wilk's test\n",
        "shapiro_test(df2, list(df2.columns))"
      ],
      "metadata": {
        "colab": {
          "base_uri": "https://localhost:8080/"
        },
        "id": "NCXeTWz68lY4",
        "outputId": "e36ca952-04fd-4de3-b521-8b1c3e3fd2fd"
      },
      "execution_count": null,
      "outputs": [
        {
          "output_type": "stream",
          "name": "stdout",
          "text": [
            "postal_code\n",
            "Statistics=0.927, p=0.000\n",
            "Sample does not look Gaussian (reject H0)\n",
            "\n",
            "\n",
            "dayofweek\n",
            "Statistics=0.635, p=0.000\n",
            "Sample does not look Gaussian (reject H0)\n",
            "\n",
            "\n",
            "bluecars_taken_sum\n",
            "Statistics=0.869, p=0.000\n",
            "Sample does not look Gaussian (reject H0)\n",
            "\n",
            "\n",
            "bluecars_returned_sum\n",
            "Statistics=0.863, p=0.000\n",
            "Sample does not look Gaussian (reject H0)\n",
            "\n",
            "\n"
          ]
        }
      ]
    },
    {
      "cell_type": "code",
      "source": [
        "import scipy.stats as stats\n",
        "from sklearn.cluster import KMeans\n",
        "from sklearn.preprocessing import LabelEncoder\n",
        "from sklearn.preprocessing import MinMaxScaler\n",
        "#Call required libraries\n",
        "import time                   # To time processes\n",
        "import warnings               # To suppress warnings\n",
        "\n",
        "import numpy as np            # Data manipulation\n",
        "import pandas as pd           # Dataframe manipulatio \n",
        "import matplotlib.pyplot as plt # For graphics\n",
        "%matplotlib inline\n",
        "import seaborn as sns\n",
        "sns.set()\n",
        "import plotly.graph_objs as go\n",
        "from plotly.offline import download_plotlyjs, init_notebook_mode, plot, iplot\n",
        "init_notebook_mode(connected=True)\n",
        "from sklearn.preprocessing import StandardScaler  # For scaling dataset\n",
        "from sklearn.cluster import KMeans, AgglomerativeClustering, AffinityPropagation #For clustering\n",
        "from sklearn.mixture import GaussianMixture #For GMM clustering\n",
        "import os                     # For os related operations\n",
        "import sys  "
      ],
      "metadata": {
        "colab": {
          "base_uri": "https://localhost:8080/",
          "height": 17
        },
        "id": "4_6kzddY8qi-",
        "outputId": "31e7b026-b003-4b6c-a0f9-c86058614e2a"
      },
      "execution_count": null,
      "outputs": [
        {
          "output_type": "display_data",
          "data": {
            "text/html": [
              "        <script type=\"text/javascript\">\n",
              "        window.PlotlyConfig = {MathJaxConfig: 'local'};\n",
              "        if (window.MathJax) {MathJax.Hub.Config({SVG: {font: \"STIX-Web\"}});}\n",
              "        if (typeof require !== 'undefined') {\n",
              "        require.undef(\"plotly\");\n",
              "        requirejs.config({\n",
              "            paths: {\n",
              "                'plotly': ['https://cdn.plot.ly/plotly-2.8.3.min']\n",
              "            }\n",
              "        });\n",
              "        require(['plotly'], function(Plotly) {\n",
              "            window._Plotly = Plotly;\n",
              "        });\n",
              "        }\n",
              "        </script>\n",
              "        "
            ]
          },
          "metadata": {}
        }
      ]
    },
    {
      "cell_type": "markdown",
      "source": [
        "# **STRATIFIED SAMPLING**"
      ],
      "metadata": {
        "id": "Zx2gcfYb9JPU"
      }
    },
    {
      "cell_type": "code",
      "source": [
        "# Stratified sample\n",
        "df4 = df2.groupby('dayofweek', group_keys=False).apply(lambda grouped_subset : grouped_subset.sample(frac=0.1))\n",
        "df4"
      ],
      "metadata": {
        "colab": {
          "base_uri": "https://localhost:8080/",
          "height": 424
        },
        "id": "Yaqb-bRh9QB9",
        "outputId": "eff7488a-1d98-4cf3-811b-91aa0cdf528e"
      },
      "execution_count": null,
      "outputs": [
        {
          "output_type": "execute_result",
          "data": {
            "text/plain": [
              "      postal_code dayofweek  bluecars_taken_sum  bluecars_returned_sum\n",
              "8577        92380         5                  21                     22\n",
              "6745        92250         5                  76                     75\n",
              "10651       93170         5                  61                     54\n",
              "7897        92330         5                  61                     65\n",
              "4378        92000         5                 200                    184\n",
              "...           ...       ...                 ...                    ...\n",
              "5530        92160         6                  44                     35\n",
              "14436       94230         6                  54                     54\n",
              "7647        92320         6                  79                     85\n",
              "14665       94300         6                 149                    147\n",
              "14897       94410         6                  30                     28\n",
              "\n",
              "[296 rows x 4 columns]"
            ],
            "text/html": [
              "\n",
              "  <div id=\"df-d32f68bb-5584-46b2-adb8-385fd429c886\">\n",
              "    <div class=\"colab-df-container\">\n",
              "      <div>\n",
              "<style scoped>\n",
              "    .dataframe tbody tr th:only-of-type {\n",
              "        vertical-align: middle;\n",
              "    }\n",
              "\n",
              "    .dataframe tbody tr th {\n",
              "        vertical-align: top;\n",
              "    }\n",
              "\n",
              "    .dataframe thead th {\n",
              "        text-align: right;\n",
              "    }\n",
              "</style>\n",
              "<table border=\"1\" class=\"dataframe\">\n",
              "  <thead>\n",
              "    <tr style=\"text-align: right;\">\n",
              "      <th></th>\n",
              "      <th>postal_code</th>\n",
              "      <th>dayofweek</th>\n",
              "      <th>bluecars_taken_sum</th>\n",
              "      <th>bluecars_returned_sum</th>\n",
              "    </tr>\n",
              "  </thead>\n",
              "  <tbody>\n",
              "    <tr>\n",
              "      <th>8577</th>\n",
              "      <td>92380</td>\n",
              "      <td>5</td>\n",
              "      <td>21</td>\n",
              "      <td>22</td>\n",
              "    </tr>\n",
              "    <tr>\n",
              "      <th>6745</th>\n",
              "      <td>92250</td>\n",
              "      <td>5</td>\n",
              "      <td>76</td>\n",
              "      <td>75</td>\n",
              "    </tr>\n",
              "    <tr>\n",
              "      <th>10651</th>\n",
              "      <td>93170</td>\n",
              "      <td>5</td>\n",
              "      <td>61</td>\n",
              "      <td>54</td>\n",
              "    </tr>\n",
              "    <tr>\n",
              "      <th>7897</th>\n",
              "      <td>92330</td>\n",
              "      <td>5</td>\n",
              "      <td>61</td>\n",
              "      <td>65</td>\n",
              "    </tr>\n",
              "    <tr>\n",
              "      <th>4378</th>\n",
              "      <td>92000</td>\n",
              "      <td>5</td>\n",
              "      <td>200</td>\n",
              "      <td>184</td>\n",
              "    </tr>\n",
              "    <tr>\n",
              "      <th>...</th>\n",
              "      <td>...</td>\n",
              "      <td>...</td>\n",
              "      <td>...</td>\n",
              "      <td>...</td>\n",
              "    </tr>\n",
              "    <tr>\n",
              "      <th>5530</th>\n",
              "      <td>92160</td>\n",
              "      <td>6</td>\n",
              "      <td>44</td>\n",
              "      <td>35</td>\n",
              "    </tr>\n",
              "    <tr>\n",
              "      <th>14436</th>\n",
              "      <td>94230</td>\n",
              "      <td>6</td>\n",
              "      <td>54</td>\n",
              "      <td>54</td>\n",
              "    </tr>\n",
              "    <tr>\n",
              "      <th>7647</th>\n",
              "      <td>92320</td>\n",
              "      <td>6</td>\n",
              "      <td>79</td>\n",
              "      <td>85</td>\n",
              "    </tr>\n",
              "    <tr>\n",
              "      <th>14665</th>\n",
              "      <td>94300</td>\n",
              "      <td>6</td>\n",
              "      <td>149</td>\n",
              "      <td>147</td>\n",
              "    </tr>\n",
              "    <tr>\n",
              "      <th>14897</th>\n",
              "      <td>94410</td>\n",
              "      <td>6</td>\n",
              "      <td>30</td>\n",
              "      <td>28</td>\n",
              "    </tr>\n",
              "  </tbody>\n",
              "</table>\n",
              "<p>296 rows × 4 columns</p>\n",
              "</div>\n",
              "      <button class=\"colab-df-convert\" onclick=\"convertToInteractive('df-d32f68bb-5584-46b2-adb8-385fd429c886')\"\n",
              "              title=\"Convert this dataframe to an interactive table.\"\n",
              "              style=\"display:none;\">\n",
              "        \n",
              "  <svg xmlns=\"http://www.w3.org/2000/svg\" height=\"24px\"viewBox=\"0 0 24 24\"\n",
              "       width=\"24px\">\n",
              "    <path d=\"M0 0h24v24H0V0z\" fill=\"none\"/>\n",
              "    <path d=\"M18.56 5.44l.94 2.06.94-2.06 2.06-.94-2.06-.94-.94-2.06-.94 2.06-2.06.94zm-11 1L8.5 8.5l.94-2.06 2.06-.94-2.06-.94L8.5 2.5l-.94 2.06-2.06.94zm10 10l.94 2.06.94-2.06 2.06-.94-2.06-.94-.94-2.06-.94 2.06-2.06.94z\"/><path d=\"M17.41 7.96l-1.37-1.37c-.4-.4-.92-.59-1.43-.59-.52 0-1.04.2-1.43.59L10.3 9.45l-7.72 7.72c-.78.78-.78 2.05 0 2.83L4 21.41c.39.39.9.59 1.41.59.51 0 1.02-.2 1.41-.59l7.78-7.78 2.81-2.81c.8-.78.8-2.07 0-2.86zM5.41 20L4 18.59l7.72-7.72 1.47 1.35L5.41 20z\"/>\n",
              "  </svg>\n",
              "      </button>\n",
              "      \n",
              "  <style>\n",
              "    .colab-df-container {\n",
              "      display:flex;\n",
              "      flex-wrap:wrap;\n",
              "      gap: 12px;\n",
              "    }\n",
              "\n",
              "    .colab-df-convert {\n",
              "      background-color: #E8F0FE;\n",
              "      border: none;\n",
              "      border-radius: 50%;\n",
              "      cursor: pointer;\n",
              "      display: none;\n",
              "      fill: #1967D2;\n",
              "      height: 32px;\n",
              "      padding: 0 0 0 0;\n",
              "      width: 32px;\n",
              "    }\n",
              "\n",
              "    .colab-df-convert:hover {\n",
              "      background-color: #E2EBFA;\n",
              "      box-shadow: 0px 1px 2px rgba(60, 64, 67, 0.3), 0px 1px 3px 1px rgba(60, 64, 67, 0.15);\n",
              "      fill: #174EA6;\n",
              "    }\n",
              "\n",
              "    [theme=dark] .colab-df-convert {\n",
              "      background-color: #3B4455;\n",
              "      fill: #D2E3FC;\n",
              "    }\n",
              "\n",
              "    [theme=dark] .colab-df-convert:hover {\n",
              "      background-color: #434B5C;\n",
              "      box-shadow: 0px 1px 3px 1px rgba(0, 0, 0, 0.15);\n",
              "      filter: drop-shadow(0px 1px 2px rgba(0, 0, 0, 0.3));\n",
              "      fill: #FFFFFF;\n",
              "    }\n",
              "  </style>\n",
              "\n",
              "      <script>\n",
              "        const buttonEl =\n",
              "          document.querySelector('#df-d32f68bb-5584-46b2-adb8-385fd429c886 button.colab-df-convert');\n",
              "        buttonEl.style.display =\n",
              "          google.colab.kernel.accessAllowed ? 'block' : 'none';\n",
              "\n",
              "        async function convertToInteractive(key) {\n",
              "          const element = document.querySelector('#df-d32f68bb-5584-46b2-adb8-385fd429c886');\n",
              "          const dataTable =\n",
              "            await google.colab.kernel.invokeFunction('convertToInteractive',\n",
              "                                                     [key], {});\n",
              "          if (!dataTable) return;\n",
              "\n",
              "          const docLinkHtml = 'Like what you see? Visit the ' +\n",
              "            '<a target=\"_blank\" href=https://colab.research.google.com/notebooks/data_table.ipynb>data table notebook</a>'\n",
              "            + ' to learn more about interactive tables.';\n",
              "          element.innerHTML = '';\n",
              "          dataTable['output_type'] = 'display_data';\n",
              "          await google.colab.output.renderOutput(dataTable, element);\n",
              "          const docLink = document.createElement('div');\n",
              "          docLink.innerHTML = docLinkHtml;\n",
              "          element.appendChild(docLink);\n",
              "        }\n",
              "      </script>\n",
              "    </div>\n",
              "  </div>\n",
              "  "
            ]
          },
          "metadata": {},
          "execution_count": 54
        }
      ]
    },
    {
      "cell_type": "code",
      "source": [
        "# Population mean\n",
        "a = df['BlueCars_taken_sum'].mean()\n",
        "a"
      ],
      "metadata": {
        "colab": {
          "base_uri": "https://localhost:8080/"
        },
        "id": "vRtY7jvl9bBU",
        "outputId": "c01d7219-0e85-44ae-c526-15ae369adaec"
      },
      "execution_count": null,
      "outputs": [
        {
          "output_type": "execute_result",
          "data": {
            "text/plain": [
              "125.92695057506994"
            ]
          },
          "metadata": {},
          "execution_count": 55
        }
      ]
    },
    {
      "cell_type": "code",
      "source": [
        "d = df['BlueCars_returned_sum'].mean()\n",
        "d"
      ],
      "metadata": {
        "colab": {
          "base_uri": "https://localhost:8080/"
        },
        "id": "9BJYAg9A9ivo",
        "outputId": "76ab8315-dc52-4594-d057-97abc45474eb"
      },
      "execution_count": null,
      "outputs": [
        {
          "output_type": "execute_result",
          "data": {
            "text/plain": [
              "125.912713708424"
            ]
          },
          "metadata": {},
          "execution_count": 56
        }
      ]
    },
    {
      "cell_type": "code",
      "source": [
        "# Sample mean\n",
        "b = df4['bluecars_taken_sum'].mean()\n",
        "b"
      ],
      "metadata": {
        "colab": {
          "base_uri": "https://localhost:8080/"
        },
        "id": "HW9rTGjY9qdm",
        "outputId": "342cec69-45f5-428b-85d0-6afdfc322f9a"
      },
      "execution_count": null,
      "outputs": [
        {
          "output_type": "execute_result",
          "data": {
            "text/plain": [
              "57.57432432432432"
            ]
          },
          "metadata": {},
          "execution_count": 62
        }
      ]
    },
    {
      "cell_type": "code",
      "source": [
        "e = df4['bluecars_returned_sum'].mean()\n",
        "e\n"
      ],
      "metadata": {
        "colab": {
          "base_uri": "https://localhost:8080/"
        },
        "id": "-VWVas019vAl",
        "outputId": "0c38af6d-e6c3-420c-c2a1-573acc0629b5"
      },
      "execution_count": null,
      "outputs": [
        {
          "output_type": "execute_result",
          "data": {
            "text/plain": [
              "57.51013513513514"
            ]
          },
          "metadata": {},
          "execution_count": 58
        }
      ]
    },
    {
      "cell_type": "code",
      "source": [
        "# Sample standard deviation\n",
        "c = df4['bluecars_taken_sum'].std()\n",
        "c"
      ],
      "metadata": {
        "colab": {
          "base_uri": "https://localhost:8080/"
        },
        "id": "dZfumbmZ98y1",
        "outputId": "56c44084-db2e-4fc9-9260-7452e9bd7549"
      },
      "execution_count": null,
      "outputs": [
        {
          "output_type": "execute_result",
          "data": {
            "text/plain": [
              "47.46625437746969"
            ]
          },
          "metadata": {},
          "execution_count": 63
        }
      ]
    },
    {
      "cell_type": "code",
      "source": [
        "# Calculating the z-score\n",
        "zscore = (b-a) / c\n",
        "zscore"
      ],
      "metadata": {
        "colab": {
          "base_uri": "https://localhost:8080/"
        },
        "id": "0kkxLB3i-A6O",
        "outputId": "b73aca39-08ae-4440-b6c1-6632c8fbb239"
      },
      "execution_count": null,
      "outputs": [
        {
          "output_type": "execute_result",
          "data": {
            "text/plain": [
              "-1.440025701357844"
            ]
          },
          "metadata": {},
          "execution_count": 64
        }
      ]
    },
    {
      "cell_type": "code",
      "source": [
        "# Calculating the p value\n",
        "from scipy.stats import norm\n",
        "pro = stats.norm.cdf(zscore)\n",
        "pro"
      ],
      "metadata": {
        "colab": {
          "base_uri": "https://localhost:8080/"
        },
        "id": "bLIsxHY2-FcW",
        "outputId": "88213305-7713-44e5-ef48-ddcb9155aa99"
      },
      "execution_count": null,
      "outputs": [
        {
          "output_type": "execute_result",
          "data": {
            "text/plain": [
              "0.07493006388841855"
            ]
          },
          "metadata": {},
          "execution_count": 65
        }
      ]
    },
    {
      "cell_type": "code",
      "source": [
        "# Interpretation of the p value\n",
        "if pro < 0.05:    # alpha value is 0.05 or 5%\n",
        "   print(\" we are rejecting null hypothesis\")\n",
        "else:\n",
        "  print(\"we fail to reject null hypothesis\")"
      ],
      "metadata": {
        "colab": {
          "base_uri": "https://localhost:8080/"
        },
        "id": "o2M34kSj-Jyd",
        "outputId": "2bc875e7-b1be-4cad-8180-a128be8b4469"
      },
      "execution_count": null,
      "outputs": [
        {
          "output_type": "stream",
          "name": "stdout",
          "text": [
            "we fail to reject null hypothesis\n"
          ]
        }
      ]
    },
    {
      "cell_type": "code",
      "source": [
        "# point estimation\n",
        "# population.mean() - sample.mean()\n",
        "# we will use the mean for the blue cars that were taken\n",
        "\n",
        "df['BlueCars_taken_sum'].mean() - df4['bluecars_taken_sum'].mean()"
      ],
      "metadata": {
        "colab": {
          "base_uri": "https://localhost:8080/"
        },
        "id": "wcpu184r-Yh3",
        "outputId": "7d11839e-dc64-4711-ed6e-1188757ff94d"
      },
      "execution_count": null,
      "outputs": [
        {
          "output_type": "execute_result",
          "data": {
            "text/plain": [
              "68.35262625074562"
            ]
          },
          "metadata": {},
          "execution_count": 67
        }
      ]
    },
    {
      "cell_type": "code",
      "source": [
        "import math\n",
        "sample_mean = df4['bluecars_taken_sum'].mean()\n",
        "\n",
        "# Getting the z-critical value\n",
        "z_critical = stats.norm.ppf(q = 0.975)  \n",
        "\n",
        "# Checking the z-critical value\n",
        "print(\"z-critical value:\")              \n",
        "print(z_critical)        \n",
        "\n",
        "# Getting the population standard deviation\n",
        "\n",
        "pop_stdev = df['BlueCars_taken_sum'].std()  \n",
        "\n",
        "margin_of_error = z_critical * (pop_stdev/math.sqrt(296))\n",
        "\n",
        "confidence_interval = (sample_mean - margin_of_error,\n",
        "                       sample_mean + margin_of_error)  \n",
        "\n",
        "print(\"Confidence interval:\")\n",
        "print(confidence_interval)"
      ],
      "metadata": {
        "colab": {
          "base_uri": "https://localhost:8080/"
        },
        "id": "tzP3SgGU-gdz",
        "outputId": "1c8e8067-524f-4a95-ca72-b9abef7cd3ce"
      },
      "execution_count": null,
      "outputs": [
        {
          "output_type": "stream",
          "name": "stdout",
          "text": [
            "z-critical value:\n",
            "1.959963984540054\n",
            "Confidence interval:\n",
            "(36.45041858498178, 78.69823006366687)\n"
          ]
        }
      ]
    },
    {
      "cell_type": "markdown",
      "source": [
        "# **CLUSTER SAMPLING**"
      ],
      "metadata": {
        "id": "PQJsts2J--o3"
      }
    },
    {
      "cell_type": "code",
      "source": [
        "# cluster sampling\n",
        "plt.scatter(df2['bluecars_taken_sum'],df2['bluecars_returned_sum'])\n",
        "plt.show"
      ],
      "metadata": {
        "colab": {
          "base_uri": "https://localhost:8080/",
          "height": 285
        },
        "id": "REB0pPZq_CMc",
        "outputId": "d249121e-228e-4553-9162-7c63d23dd1bd"
      },
      "execution_count": null,
      "outputs": [
        {
          "output_type": "execute_result",
          "data": {
            "text/plain": [
              "<function matplotlib.pyplot.show>"
            ]
          },
          "metadata": {},
          "execution_count": 69
        },
        {
          "output_type": "display_data",
          "data": {
            "text/plain": [
              "<Figure size 432x288 with 1 Axes>"
            ],
            "image/png": "[encoded data removed]"
          },
          "metadata": {}
        }
      ]
    },
    {
      "cell_type": "code",
      "source": [
        "x = df2.iloc[:, 2:4]\n",
        "x"
      ],
      "metadata": {
        "colab": {
          "base_uri": "https://localhost:8080/",
          "height": 424
        },
        "id": "2Q1_hLYk_F7q",
        "outputId": "63b29497-dd3b-46c7-d062-cb214a5653c2"
      },
      "execution_count": null,
      "outputs": [
        {
          "output_type": "execute_result",
          "data": {
            "text/plain": [
              "       bluecars_taken_sum  bluecars_returned_sum\n",
              "3905                   28                     17\n",
              "3911                   24                     21\n",
              "3912                   27                     30\n",
              "3918                   16                     10\n",
              "3919                   18                     14\n",
              "...                   ...                    ...\n",
              "16068                  36                     33\n",
              "16074                  15                     15\n",
              "16075                  34                     32\n",
              "16081                  19                     19\n",
              "16082                  33                     35\n",
              "\n",
              "[2963 rows x 2 columns]"
            ],
            "text/html": [
              "\n",
              "  <div id=\"df-4cc01741-46b0-4199-aff4-ea16dc877541\">\n",
              "    <div class=\"colab-df-container\">\n",
              "      <div>\n",
              "<style scoped>\n",
              "    .dataframe tbody tr th:only-of-type {\n",
              "        vertical-align: middle;\n",
              "    }\n",
              "\n",
              "    .dataframe tbody tr th {\n",
              "        vertical-align: top;\n",
              "    }\n",
              "\n",
              "    .dataframe thead th {\n",
              "        text-align: right;\n",
              "    }\n",
              "</style>\n",
              "<table border=\"1\" class=\"dataframe\">\n",
              "  <thead>\n",
              "    <tr style=\"text-align: right;\">\n",
              "      <th></th>\n",
              "      <th>bluecars_taken_sum</th>\n",
              "      <th>bluecars_returned_sum</th>\n",
              "    </tr>\n",
              "  </thead>\n",
              "  <tbody>\n",
              "    <tr>\n",
              "      <th>3905</th>\n",
              "      <td>28</td>\n",
              "      <td>17</td>\n",
              "    </tr>\n",
              "    <tr>\n",
              "      <th>3911</th>\n",
              "      <td>24</td>\n",
              "      <td>21</td>\n",
              "    </tr>\n",
              "    <tr>\n",
              "      <th>3912</th>\n",
              "      <td>27</td>\n",
              "      <td>30</td>\n",
              "    </tr>\n",
              "    <tr>\n",
              "      <th>3918</th>\n",
              "      <td>16</td>\n",
              "      <td>10</td>\n",
              "    </tr>\n",
              "    <tr>\n",
              "      <th>3919</th>\n",
              "      <td>18</td>\n",
              "      <td>14</td>\n",
              "    </tr>\n",
              "    <tr>\n",
              "      <th>...</th>\n",
              "      <td>...</td>\n",
              "      <td>...</td>\n",
              "    </tr>\n",
              "    <tr>\n",
              "      <th>16068</th>\n",
              "      <td>36</td>\n",
              "      <td>33</td>\n",
              "    </tr>\n",
              "    <tr>\n",
              "      <th>16074</th>\n",
              "      <td>15</td>\n",
              "      <td>15</td>\n",
              "    </tr>\n",
              "    <tr>\n",
              "      <th>16075</th>\n",
              "      <td>34</td>\n",
              "      <td>32</td>\n",
              "    </tr>\n",
              "    <tr>\n",
              "      <th>16081</th>\n",
              "      <td>19</td>\n",
              "      <td>19</td>\n",
              "    </tr>\n",
              "    <tr>\n",
              "      <th>16082</th>\n",
              "      <td>33</td>\n",
              "      <td>35</td>\n",
              "    </tr>\n",
              "  </tbody>\n",
              "</table>\n",
              "<p>2963 rows × 2 columns</p>\n",
              "</div>\n",
              "      <button class=\"colab-df-convert\" onclick=\"convertToInteractive('df-4cc01741-46b0-4199-aff4-ea16dc877541')\"\n",
              "              title=\"Convert this dataframe to an interactive table.\"\n",
              "              style=\"display:none;\">\n",
              "        \n",
              "  <svg xmlns=\"http://www.w3.org/2000/svg\" height=\"24px\"viewBox=\"0 0 24 24\"\n",
              "       width=\"24px\">\n",
              "    <path d=\"M0 0h24v24H0V0z\" fill=\"none\"/>\n",
              "    <path d=\"M18.56 5.44l.94 2.06.94-2.06 2.06-.94-2.06-.94-.94-2.06-.94 2.06-2.06.94zm-11 1L8.5 8.5l.94-2.06 2.06-.94-2.06-.94L8.5 2.5l-.94 2.06-2.06.94zm10 10l.94 2.06.94-2.06 2.06-.94-2.06-.94-.94-2.06-.94 2.06-2.06.94z\"/><path d=\"M17.41 7.96l-1.37-1.37c-.4-.4-.92-.59-1.43-.59-.52 0-1.04.2-1.43.59L10.3 9.45l-7.72 7.72c-.78.78-.78 2.05 0 2.83L4 21.41c.39.39.9.59 1.41.59.51 0 1.02-.2 1.41-.59l7.78-7.78 2.81-2.81c.8-.78.8-2.07 0-2.86zM5.41 20L4 18.59l7.72-7.72 1.47 1.35L5.41 20z\"/>\n",
              "  </svg>\n",
              "      </button>\n",
              "      \n",
              "  <style>\n",
              "    .colab-df-container {\n",
              "      display:flex;\n",
              "      flex-wrap:wrap;\n",
              "      gap: 12px;\n",
              "    }\n",
              "\n",
              "    .colab-df-convert {\n",
              "      background-color: #E8F0FE;\n",
              "      border: none;\n",
              "      border-radius: 50%;\n",
              "      cursor: pointer;\n",
              "      display: none;\n",
              "      fill: #1967D2;\n",
              "      height: 32px;\n",
              "      padding: 0 0 0 0;\n",
              "      width: 32px;\n",
              "    }\n",
              "\n",
              "    .colab-df-convert:hover {\n",
              "      background-color: #E2EBFA;\n",
              "      box-shadow: 0px 1px 2px rgba(60, 64, 67, 0.3), 0px 1px 3px 1px rgba(60, 64, 67, 0.15);\n",
              "      fill: #174EA6;\n",
              "    }\n",
              "\n",
              "    [theme=dark] .colab-df-convert {\n",
              "      background-color: #3B4455;\n",
              "      fill: #D2E3FC;\n",
              "    }\n",
              "\n",
              "    [theme=dark] .colab-df-convert:hover {\n",
              "      background-color: #434B5C;\n",
              "      box-shadow: 0px 1px 3px 1px rgba(0, 0, 0, 0.15);\n",
              "      filter: drop-shadow(0px 1px 2px rgba(0, 0, 0, 0.3));\n",
              "      fill: #FFFFFF;\n",
              "    }\n",
              "  </style>\n",
              "\n",
              "      <script>\n",
              "        const buttonEl =\n",
              "          document.querySelector('#df-4cc01741-46b0-4199-aff4-ea16dc877541 button.colab-df-convert');\n",
              "        buttonEl.style.display =\n",
              "          google.colab.kernel.accessAllowed ? 'block' : 'none';\n",
              "\n",
              "        async function convertToInteractive(key) {\n",
              "          const element = document.querySelector('#df-4cc01741-46b0-4199-aff4-ea16dc877541');\n",
              "          const dataTable =\n",
              "            await google.colab.kernel.invokeFunction('convertToInteractive',\n",
              "                                                     [key], {});\n",
              "          if (!dataTable) return;\n",
              "\n",
              "          const docLinkHtml = 'Like what you see? Visit the ' +\n",
              "            '<a target=\"_blank\" href=https://colab.research.google.com/notebooks/data_table.ipynb>data table notebook</a>'\n",
              "            + ' to learn more about interactive tables.';\n",
              "          element.innerHTML = '';\n",
              "          dataTable['output_type'] = 'display_data';\n",
              "          await google.colab.output.renderOutput(dataTable, element);\n",
              "          const docLink = document.createElement('div');\n",
              "          docLink.innerHTML = docLinkHtml;\n",
              "          element.appendChild(docLink);\n",
              "        }\n",
              "      </script>\n",
              "    </div>\n",
              "  </div>\n",
              "  "
            ]
          },
          "metadata": {},
          "execution_count": 70
        }
      ]
    },
    {
      "cell_type": "code",
      "source": [
        "kmeans = KMeans(2)\n",
        "kmeans.fit(x)"
      ],
      "metadata": {
        "colab": {
          "base_uri": "https://localhost:8080/"
        },
        "id": "uda3cIDj_LG1",
        "outputId": "89d748a6-84a4-4a56-9df5-0b9a7c65b1dc"
      },
      "execution_count": null,
      "outputs": [
        {
          "output_type": "execute_result",
          "data": {
            "text/plain": [
              "KMeans(n_clusters=2)"
            ]
          },
          "metadata": {},
          "execution_count": 71
        }
      ]
    },
    {
      "cell_type": "code",
      "source": [
        "identified_clusters = kmeans.fit_predict(x)\n",
        "identified_clusters"
      ],
      "metadata": {
        "colab": {
          "base_uri": "https://localhost:8080/"
        },
        "id": "s3Ho4yPg_PKI",
        "outputId": "8efc5d6f-11ae-44bb-f9ea-38924dabcc39"
      },
      "execution_count": null,
      "outputs": [
        {
          "output_type": "execute_result",
          "data": {
            "text/plain": [
              "array([0, 0, 0, ..., 0, 0, 0], dtype=int32)"
            ]
          },
          "metadata": {},
          "execution_count": 72
        }
      ]
    },
    {
      "cell_type": "code",
      "source": [
        "kmeans.cluster_centers_"
      ],
      "metadata": {
        "colab": {
          "base_uri": "https://localhost:8080/"
        },
        "id": "gvzolX9S_Tey",
        "outputId": "9642c582-014a-4f85-bfdc-3c08e733b17e"
      },
      "execution_count": null,
      "outputs": [
        {
          "output_type": "execute_result",
          "data": {
            "text/plain": [
              "array([[ 34.27572202,  33.5916065 ],\n",
              "       [127.26238286, 127.84872825]])"
            ]
          },
          "metadata": {},
          "execution_count": 73
        }
      ]
    },
    {
      "cell_type": "code",
      "source": [
        "kmeans.inertia_"
      ],
      "metadata": {
        "colab": {
          "base_uri": "https://localhost:8080/"
        },
        "id": "zSQfKkBL_XLE",
        "outputId": "81563766-bc72-4333-9242-546d9a3287a1"
      },
      "execution_count": null,
      "outputs": [
        {
          "output_type": "execute_result",
          "data": {
            "text/plain": [
              "4602334.500908244"
            ]
          },
          "metadata": {},
          "execution_count": 74
        }
      ]
    },
    {
      "cell_type": "code",
      "source": [
        "# Create a copy of the data\n",
        "df3 = df2.copy()\n",
        "# Create a new Series, containing the identified cluster for each observation\n",
        "df3['Cluster'] = identified_clusters\n",
        "# Check the result\n",
        "df3"
      ],
      "metadata": {
        "colab": {
          "base_uri": "https://localhost:8080/",
          "height": 424
        },
        "id": "zQzs3Gco_bn6",
        "outputId": "a7b5933e-8882-4dc2-af92-30c587047407"
      },
      "execution_count": null,
      "outputs": [
        {
          "output_type": "execute_result",
          "data": {
            "text/plain": [
              "      postal_code dayofweek  bluecars_taken_sum  bluecars_returned_sum  \\\n",
              "3905        91330         6                  28                     17   \n",
              "3911        91330         5                  24                     21   \n",
              "3912        91330         6                  27                     30   \n",
              "3918        91330         5                  16                     10   \n",
              "3919        91330         6                  18                     14   \n",
              "...           ...       ...                 ...                    ...   \n",
              "16068       95880         6                  36                     33   \n",
              "16074       95880         5                  15                     15   \n",
              "16075       95880         6                  34                     32   \n",
              "16081       95880         5                  19                     19   \n",
              "16082       95880         6                  33                     35   \n",
              "\n",
              "       Cluster  \n",
              "3905         0  \n",
              "3911         0  \n",
              "3912         0  \n",
              "3918         0  \n",
              "3919         0  \n",
              "...        ...  \n",
              "16068        0  \n",
              "16074        0  \n",
              "16075        0  \n",
              "16081        0  \n",
              "16082        0  \n",
              "\n",
              "[2963 rows x 5 columns]"
            ],
            "text/html": [
              "\n",
              "  <div id=\"df-4185a82e-63d7-489a-9051-dddc69cd8719\">\n",
              "    <div class=\"colab-df-container\">\n",
              "      <div>\n",
              "<style scoped>\n",
              "    .dataframe tbody tr th:only-of-type {\n",
              "        vertical-align: middle;\n",
              "    }\n",
              "\n",
              "    .dataframe tbody tr th {\n",
              "        vertical-align: top;\n",
              "    }\n",
              "\n",
              "    .dataframe thead th {\n",
              "        text-align: right;\n",
              "    }\n",
              "</style>\n",
              "<table border=\"1\" class=\"dataframe\">\n",
              "  <thead>\n",
              "    <tr style=\"text-align: right;\">\n",
              "      <th></th>\n",
              "      <th>postal_code</th>\n",
              "      <th>dayofweek</th>\n",
              "      <th>bluecars_taken_sum</th>\n",
              "      <th>bluecars_returned_sum</th>\n",
              "      <th>Cluster</th>\n",
              "    </tr>\n",
              "  </thead>\n",
              "  <tbody>\n",
              "    <tr>\n",
              "      <th>3905</th>\n",
              "      <td>91330</td>\n",
              "      <td>6</td>\n",
              "      <td>28</td>\n",
              "      <td>17</td>\n",
              "      <td>0</td>\n",
              "    </tr>\n",
              "    <tr>\n",
              "      <th>3911</th>\n",
              "      <td>91330</td>\n",
              "      <td>5</td>\n",
              "      <td>24</td>\n",
              "      <td>21</td>\n",
              "      <td>0</td>\n",
              "    </tr>\n",
              "    <tr>\n",
              "      <th>3912</th>\n",
              "      <td>91330</td>\n",
              "      <td>6</td>\n",
              "      <td>27</td>\n",
              "      <td>30</td>\n",
              "      <td>0</td>\n",
              "    </tr>\n",
              "    <tr>\n",
              "      <th>3918</th>\n",
              "      <td>91330</td>\n",
              "      <td>5</td>\n",
              "      <td>16</td>\n",
              "      <td>10</td>\n",
              "      <td>0</td>\n",
              "    </tr>\n",
              "    <tr>\n",
              "      <th>3919</th>\n",
              "      <td>91330</td>\n",
              "      <td>6</td>\n",
              "      <td>18</td>\n",
              "      <td>14</td>\n",
              "      <td>0</td>\n",
              "    </tr>\n",
              "    <tr>\n",
              "      <th>...</th>\n",
              "      <td>...</td>\n",
              "      <td>...</td>\n",
              "      <td>...</td>\n",
              "      <td>...</td>\n",
              "      <td>...</td>\n",
              "    </tr>\n",
              "    <tr>\n",
              "      <th>16068</th>\n",
              "      <td>95880</td>\n",
              "      <td>6</td>\n",
              "      <td>36</td>\n",
              "      <td>33</td>\n",
              "      <td>0</td>\n",
              "    </tr>\n",
              "    <tr>\n",
              "      <th>16074</th>\n",
              "      <td>95880</td>\n",
              "      <td>5</td>\n",
              "      <td>15</td>\n",
              "      <td>15</td>\n",
              "      <td>0</td>\n",
              "    </tr>\n",
              "    <tr>\n",
              "      <th>16075</th>\n",
              "      <td>95880</td>\n",
              "      <td>6</td>\n",
              "      <td>34</td>\n",
              "      <td>32</td>\n",
              "      <td>0</td>\n",
              "    </tr>\n",
              "    <tr>\n",
              "      <th>16081</th>\n",
              "      <td>95880</td>\n",
              "      <td>5</td>\n",
              "      <td>19</td>\n",
              "      <td>19</td>\n",
              "      <td>0</td>\n",
              "    </tr>\n",
              "    <tr>\n",
              "      <th>16082</th>\n",
              "      <td>95880</td>\n",
              "      <td>6</td>\n",
              "      <td>33</td>\n",
              "      <td>35</td>\n",
              "      <td>0</td>\n",
              "    </tr>\n",
              "  </tbody>\n",
              "</table>\n",
              "<p>2963 rows × 5 columns</p>\n",
              "</div>\n",
              "      <button class=\"colab-df-convert\" onclick=\"convertToInteractive('df-4185a82e-63d7-489a-9051-dddc69cd8719')\"\n",
              "              title=\"Convert this dataframe to an interactive table.\"\n",
              "              style=\"display:none;\">\n",
              "        \n",
              "  <svg xmlns=\"http://www.w3.org/2000/svg\" height=\"24px\"viewBox=\"0 0 24 24\"\n",
              "       width=\"24px\">\n",
              "    <path d=\"M0 0h24v24H0V0z\" fill=\"none\"/>\n",
              "    <path d=\"M18.56 5.44l.94 2.06.94-2.06 2.06-.94-2.06-.94-.94-2.06-.94 2.06-2.06.94zm-11 1L8.5 8.5l.94-2.06 2.06-.94-2.06-.94L8.5 2.5l-.94 2.06-2.06.94zm10 10l.94 2.06.94-2.06 2.06-.94-2.06-.94-.94-2.06-.94 2.06-2.06.94z\"/><path d=\"M17.41 7.96l-1.37-1.37c-.4-.4-.92-.59-1.43-.59-.52 0-1.04.2-1.43.59L10.3 9.45l-7.72 7.72c-.78.78-.78 2.05 0 2.83L4 21.41c.39.39.9.59 1.41.59.51 0 1.02-.2 1.41-.59l7.78-7.78 2.81-2.81c.8-.78.8-2.07 0-2.86zM5.41 20L4 18.59l7.72-7.72 1.47 1.35L5.41 20z\"/>\n",
              "  </svg>\n",
              "      </button>\n",
              "      \n",
              "  <style>\n",
              "    .colab-df-container {\n",
              "      display:flex;\n",
              "      flex-wrap:wrap;\n",
              "      gap: 12px;\n",
              "    }\n",
              "\n",
              "    .colab-df-convert {\n",
              "      background-color: #E8F0FE;\n",
              "      border: none;\n",
              "      border-radius: 50%;\n",
              "      cursor: pointer;\n",
              "      display: none;\n",
              "      fill: #1967D2;\n",
              "      height: 32px;\n",
              "      padding: 0 0 0 0;\n",
              "      width: 32px;\n",
              "    }\n",
              "\n",
              "    .colab-df-convert:hover {\n",
              "      background-color: #E2EBFA;\n",
              "      box-shadow: 0px 1px 2px rgba(60, 64, 67, 0.3), 0px 1px 3px 1px rgba(60, 64, 67, 0.15);\n",
              "      fill: #174EA6;\n",
              "    }\n",
              "\n",
              "    [theme=dark] .colab-df-convert {\n",
              "      background-color: #3B4455;\n",
              "      fill: #D2E3FC;\n",
              "    }\n",
              "\n",
              "    [theme=dark] .colab-df-convert:hover {\n",
              "      background-color: #434B5C;\n",
              "      box-shadow: 0px 1px 3px 1px rgba(0, 0, 0, 0.15);\n",
              "      filter: drop-shadow(0px 1px 2px rgba(0, 0, 0, 0.3));\n",
              "      fill: #FFFFFF;\n",
              "    }\n",
              "  </style>\n",
              "\n",
              "      <script>\n",
              "        const buttonEl =\n",
              "          document.querySelector('#df-4185a82e-63d7-489a-9051-dddc69cd8719 button.colab-df-convert');\n",
              "        buttonEl.style.display =\n",
              "          google.colab.kernel.accessAllowed ? 'block' : 'none';\n",
              "\n",
              "        async function convertToInteractive(key) {\n",
              "          const element = document.querySelector('#df-4185a82e-63d7-489a-9051-dddc69cd8719');\n",
              "          const dataTable =\n",
              "            await google.colab.kernel.invokeFunction('convertToInteractive',\n",
              "                                                     [key], {});\n",
              "          if (!dataTable) return;\n",
              "\n",
              "          const docLinkHtml = 'Like what you see? Visit the ' +\n",
              "            '<a target=\"_blank\" href=https://colab.research.google.com/notebooks/data_table.ipynb>data table notebook</a>'\n",
              "            + ' to learn more about interactive tables.';\n",
              "          element.innerHTML = '';\n",
              "          dataTable['output_type'] = 'display_data';\n",
              "          await google.colab.output.renderOutput(dataTable, element);\n",
              "          const docLink = document.createElement('div');\n",
              "          docLink.innerHTML = docLinkHtml;\n",
              "          element.appendChild(docLink);\n",
              "        }\n",
              "      </script>\n",
              "    </div>\n",
              "  </div>\n",
              "  "
            ]
          },
          "metadata": {},
          "execution_count": 75
        }
      ]
    },
    {
      "cell_type": "code",
      "source": [
        "#Scaling of data\n",
        "ss = StandardScaler()\n",
        "ss.fit_transform(df3)"
      ],
      "metadata": {
        "colab": {
          "base_uri": "https://localhost:8080/"
        },
        "id": "XrHr1Cj-_g0k",
        "outputId": "4699cc08-1c32-4406-aded-162fe51c96a5"
      },
      "execution_count": null,
      "outputs": [
        {
          "output_type": "execute_result",
          "data": {
            "text/plain": [
              "array([[-1.7546114 ,  0.94578078, -0.60670759, -0.81372991, -0.58111747],\n",
              "       [-1.7546114 , -1.05732747, -0.6883681 , -0.73307217, -0.58111747],\n",
              "       [-1.7546114 ,  0.94578078, -0.62712271, -0.55159225, -0.58111747],\n",
              "       ...,\n",
              "       [ 2.72513968,  0.94578078, -0.48421681, -0.51126338, -0.58111747],\n",
              "       [ 2.72513968, -1.05732747, -0.79044374, -0.77340104, -0.58111747],\n",
              "       [ 2.72513968,  0.94578078, -0.50463194, -0.45077007, -0.58111747]])"
            ]
          },
          "metadata": {},
          "execution_count": 76
        }
      ]
    },
    {
      "cell_type": "code",
      "source": [
        "def doGMM(X, nclust=2):\n",
        "    model = GaussianMixture(n_components=nclust,init_params='kmeans')\n",
        "    model.fit(X)\n",
        "    clust_labels3 = model.predict(X)\n",
        "    return (clust_labels3)\n",
        "\n",
        "clust_labels3 = doGMM(df3,2)\n",
        "gmm = pd.DataFrame(clust_labels3)\n",
        "df3.insert((df3.shape[1]),'gmm',gmm)"
      ],
      "metadata": {
        "id": "ZtuZrXb8_lnl"
      },
      "execution_count": null,
      "outputs": []
    },
    {
      "cell_type": "code",
      "source": [
        "#Plotting the cluster obtained using GMM\n",
        "fig = plt.figure()\n",
        "ax = fig.add_subplot(111)\n",
        "scatter = ax.scatter(df3['bluecars_returned_sum'],df3['bluecars_taken_sum'],\n",
        "                     c=gmm[0],s=50)\n",
        "ax.set_title('Clustering')\n",
        "ax.set_xlabel('cars returned')\n",
        "ax.set_ylabel('cars taken')\n",
        "plt.colorbar(scatter)"
      ],
      "metadata": {
        "colab": {
          "base_uri": "https://localhost:8080/",
          "height": 318
        },
        "id": "y2qqZ7j-_rrc",
        "outputId": "5cb6ee38-f436-472e-8926-9e132bbd2ff7"
      },
      "execution_count": null,
      "outputs": [
        {
          "output_type": "execute_result",
          "data": {
            "text/plain": [
              "<matplotlib.colorbar.Colorbar at 0x7f5b3e1073d0>"
            ]
          },
          "metadata": {},
          "execution_count": 78
        },
        {
          "output_type": "display_data",
          "data": {
            "text/plain": [
              "<Figure size 432x288 with 2 Axes>"
            ],
            "image/png": "[encoded data removed]"
          },
          "metadata": {}
        }
      ]
    },
    {
      "cell_type": "markdown",
      "source": [
        "# **CONCLUSION**"
      ],
      "metadata": {
        "id": "UA9Sm5jm_1W8"
      }
    },
    {
      "cell_type": "markdown",
      "source": [
        "We fail to reject the null hypothesis becase there is not sufficient evidence to prove that the average means of the bluecars taken and returned are not equal."
      ],
      "metadata": {
        "id": "DgxdlOJy_6ar"
      }
    }
  ]
}